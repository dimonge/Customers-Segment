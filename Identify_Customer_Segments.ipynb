{
 "cells": [
  {
   "cell_type": "markdown",
   "metadata": {},
   "source": [
    "# Project: Identify Customer Segments\n",
    "\n",
    "In this project, you will apply unsupervised learning techniques to identify segments of the population that form the core customer base for a mail-order sales company in Germany. These segments can then be used to direct marketing campaigns towards audiences that will have the highest expected rate of returns. The data that you will use has been provided by our partners at Bertelsmann Arvato Analytics, and represents a real-life data science task.\n",
    "\n",
    "This notebook will help you complete this task by providing a framework within which you will perform your analysis steps. In each step of the project, you will see some text describing the subtask that you will perform, followed by one or more code cells for you to complete your work. **Feel free to add additional code and markdown cells as you go along so that you can explore everything in precise chunks.** The code cells provided in the base template will outline only the major tasks, and will usually not be enough to cover all of the minor tasks that comprise it.\n",
    "\n",
    "It should be noted that while there will be precise guidelines on how you should handle certain tasks in the project, there will also be places where an exact specification is not provided. **There will be times in the project where you will need to make and justify your own decisions on how to treat the data.** These are places where there may not be only one way to handle the data. In real-life tasks, there may be many valid ways to approach an analysis task. One of the most important things you can do is clearly document your approach so that other scientists can understand the decisions you've made.\n",
    "\n",
    "At the end of most sections, there will be a Markdown cell labeled **Discussion**. In these cells, you will report your findings for the completed section, as well as document the decisions that you made in your approach to each subtask. **Your project will be evaluated not just on the code used to complete the tasks outlined, but also your communication about your observations and conclusions at each stage.**"
   ]
  },
  {
   "cell_type": "code",
   "execution_count": 1,
   "metadata": {},
   "outputs": [],
   "source": [
    "# import libraries here; add more as necessary\n",
    "import numpy as np\n",
    "import pandas as pd\n",
    "import matplotlib.pyplot as plt\n",
    "import seaborn as sns\n",
    "\n",
    "from sklearn import preprocessing\n",
    "from sklearn.preprocessing import OneHotEncoder\n",
    "\n",
    "# magic word for producing visualizations in notebook\n",
    "%matplotlib inline"
   ]
  },
  {
   "cell_type": "markdown",
   "metadata": {},
   "source": [
    "### Step 0: Load the Data\n",
    "\n",
    "There are four files associated with this project (not including this one):\n",
    "\n",
    "- `Udacity_AZDIAS_Subset.csv`: Demographics data for the general population of Germany; 891211 persons (rows) x 85 features (columns).\n",
    "- `Udacity_CUSTOMERS_Subset.csv`: Demographics data for customers of a mail-order company; 191652 persons (rows) x 85 features (columns).\n",
    "- `Data_Dictionary.md`: Detailed information file about the features in the provided datasets.\n",
    "- `AZDIAS_Feature_Summary.csv`: Summary of feature attributes for demographics data; 85 features (rows) x 4 columns\n",
    "\n",
    "Each row of the demographics files represents a single person, but also includes information outside of individuals, including information about their household, building, and neighborhood. You will use this information to cluster the general population into groups with similar demographic properties. Then, you will see how the people in the customers dataset fit into those created clusters. The hope here is that certain clusters are over-represented in the customers data, as compared to the general population; those over-represented clusters will be assumed to be part of the core userbase. This information can then be used for further applications, such as targeting for a marketing campaign.\n",
    "\n",
    "To start off with, load in the demographics data for the general population into a pandas DataFrame, and do the same for the feature attributes summary. Note for all of the `.csv` data files in this project: they're semicolon (`;`) delimited, so you'll need an additional argument in your [`read_csv()`](https://pandas.pydata.org/pandas-docs/stable/generated/pandas.read_csv.html) call to read in the data properly. Also, considering the size of the main dataset, it may take some time for it to load completely.\n",
    "\n",
    "Once the dataset is loaded, it's recommended that you take a little bit of time just browsing the general structure of the dataset and feature summary file. You'll be getting deep into the innards of the cleaning in the first major step of the project, so gaining some general familiarity can help you get your bearings."
   ]
  },
  {
   "cell_type": "code",
   "execution_count": 2,
   "metadata": {},
   "outputs": [],
   "source": [
    "# Load in the general demographics data.\n",
    "delimiter = \";\";\n",
    "azdias = pd.read_csv(\"Udacity_AZDIAS_Subset.csv\", delimiter=delimiter);\n",
    "\n",
    "# Load in the feature summary file.\n",
    "feat_info = pd.read_csv(\"AZDIAS_Feature_Summary.csv\", delimiter=delimiter)"
   ]
  },
  {
   "cell_type": "code",
   "execution_count": 3,
   "metadata": {},
   "outputs": [
    {
     "name": "stdout",
     "output_type": "stream",
     "text": [
      "Udacity AZDIAS Subset data (rows, columns): (891221, 85)\n",
      "AZDIAS Feature Summary data (rows, columns): (85, 4)\n"
     ]
    }
   ],
   "source": [
    "# Check the structure of the data after it's loaded (e.g. print the number of\n",
    "# rows and columns, print the first few rows).\n",
    "print(\"Udacity AZDIAS Subset data (rows, columns):\", azdias.shape)\n",
    "print(\"AZDIAS Feature Summary data (rows, columns):\", feat_info.shape)\n",
    "\n"
   ]
  },
  {
   "cell_type": "code",
   "execution_count": 4,
   "metadata": {},
   "outputs": [
    {
     "name": "stdout",
     "output_type": "stream",
     "text": [
      "First 10 data from Azdias\n",
      "   AGER_TYP  ALTERSKATEGORIE_GROB  ANREDE_KZ  CJT_GESAMTTYP  \\\n",
      "0        -1                     2          1            2.0   \n",
      "1        -1                     1          2            5.0   \n",
      "2        -1                     3          2            3.0   \n",
      "3         2                     4          2            2.0   \n",
      "4        -1                     3          1            5.0   \n",
      "5         3                     1          2            2.0   \n",
      "6        -1                     2          2            5.0   \n",
      "7        -1                     1          1            3.0   \n",
      "8        -1                     3          1            3.0   \n",
      "9        -1                     3          2            4.0   \n",
      "\n",
      "   FINANZ_MINIMALIST  FINANZ_SPARER  FINANZ_VORSORGER  FINANZ_ANLEGER  \\\n",
      "0                  3              4                 3               5   \n",
      "1                  1              5                 2               5   \n",
      "2                  1              4                 1               2   \n",
      "3                  4              2                 5               2   \n",
      "4                  4              3                 4               1   \n",
      "5                  3              1                 5               2   \n",
      "6                  1              5                 1               5   \n",
      "7                  3              3                 4               1   \n",
      "8                  4              4                 2               4   \n",
      "9                  2              4                 2               3   \n",
      "\n",
      "   FINANZ_UNAUFFAELLIGER  FINANZ_HAUSBAUER    ...     PLZ8_ANTG1  PLZ8_ANTG2  \\\n",
      "0                      5                 3    ...            NaN         NaN   \n",
      "1                      4                 5    ...            2.0         3.0   \n",
      "2                      3                 5    ...            3.0         3.0   \n",
      "3                      1                 2    ...            2.0         2.0   \n",
      "4                      3                 2    ...            2.0         4.0   \n",
      "5                      2                 5    ...            2.0         3.0   \n",
      "6                      4                 3    ...            3.0         3.0   \n",
      "7                      3                 2    ...            3.0         3.0   \n",
      "8                      2                 2    ...            2.0         3.0   \n",
      "9                      5                 4    ...            2.0         3.0   \n",
      "\n",
      "   PLZ8_ANTG3  PLZ8_ANTG4  PLZ8_BAUMAX  PLZ8_HHZ  PLZ8_GBZ  ARBEIT  \\\n",
      "0         NaN         NaN          NaN       NaN       NaN     NaN   \n",
      "1         2.0         1.0          1.0       5.0       4.0     3.0   \n",
      "2         1.0         0.0          1.0       4.0       4.0     3.0   \n",
      "3         2.0         0.0          1.0       3.0       4.0     2.0   \n",
      "4         2.0         1.0          2.0       3.0       3.0     4.0   \n",
      "5         1.0         1.0          1.0       5.0       5.0     2.0   \n",
      "6         1.0         0.0          1.0       5.0       5.0     4.0   \n",
      "7         1.0         0.0          1.0       4.0       4.0     2.0   \n",
      "8         2.0         1.0          1.0       3.0       3.0     2.0   \n",
      "9         2.0         1.0          1.0       3.0       3.0     2.0   \n",
      "\n",
      "   ORTSGR_KLS9  RELAT_AB  \n",
      "0          NaN       NaN  \n",
      "1          5.0       4.0  \n",
      "2          5.0       2.0  \n",
      "3          3.0       3.0  \n",
      "4          6.0       5.0  \n",
      "5          3.0       3.0  \n",
      "6          6.0       3.0  \n",
      "7          5.0       2.0  \n",
      "8          4.0       3.0  \n",
      "9          3.0       1.0  \n",
      "\n",
      "[10 rows x 85 columns]\n"
     ]
    }
   ],
   "source": [
    "# Print the first 10 rows\n",
    "print(\"First 10 data from Azdias\")\n",
    "print(azdias.head(10))"
   ]
  },
  {
   "cell_type": "code",
   "execution_count": 5,
   "metadata": {},
   "outputs": [
    {
     "name": "stdout",
     "output_type": "stream",
     "text": [
      "First 10 data from Feat info\n",
      "               attribute information_level         type missing_or_unknown\n",
      "0               AGER_TYP            person  categorical             [-1,0]\n",
      "1   ALTERSKATEGORIE_GROB            person      ordinal           [-1,0,9]\n",
      "2              ANREDE_KZ            person  categorical             [-1,0]\n",
      "3          CJT_GESAMTTYP            person  categorical                [0]\n",
      "4      FINANZ_MINIMALIST            person      ordinal               [-1]\n",
      "5          FINANZ_SPARER            person      ordinal               [-1]\n",
      "6       FINANZ_VORSORGER            person      ordinal               [-1]\n",
      "7         FINANZ_ANLEGER            person      ordinal               [-1]\n",
      "8  FINANZ_UNAUFFAELLIGER            person      ordinal               [-1]\n",
      "9       FINANZ_HAUSBAUER            person      ordinal               [-1]\n"
     ]
    }
   ],
   "source": [
    "print(\"First 10 data from Feat info\");\n",
    "print(feat_info.head(10))"
   ]
  },
  {
   "cell_type": "markdown",
   "metadata": {},
   "source": [
    "> **Tip**: Add additional cells to keep everything in reasonably-sized chunks! Keyboard shortcut `esc --> a` (press escape to enter command mode, then press the 'A' key) adds a new cell before the active cell, and `esc --> b` adds a new cell after the active cell. If you need to convert an active cell to a markdown cell, use `esc --> m` and to convert to a code cell, use `esc --> y`. \n",
    "\n",
    "## Step 1: Preprocessing\n",
    "\n",
    "### Step 1.1: Assess Missing Data\n",
    "\n",
    "The feature summary file contains a summary of properties for each demographics data column. You will use this file to help you make cleaning decisions during this stage of the project. First of all, you should assess the demographics data in terms of missing data. Pay attention to the following points as you perform your analysis, and take notes on what you observe. Make sure that you fill in the **Discussion** cell with your findings and decisions at the end of each step that has one!\n",
    "\n",
    "#### Step 1.1.1: Convert Missing Value Codes to NaNs\n",
    "The fourth column of the feature attributes summary (loaded in above as `feat_info`) documents the codes from the data dictionary that indicate missing or unknown data. While the file encodes this as a list (e.g. `[-1,0]`), this will get read in as a string object. You'll need to do a little bit of parsing to make use of it to identify and clean the data. Convert data that matches a 'missing' or 'unknown' value code into a numpy NaN value. You might want to see how much data takes on a 'missing' or 'unknown' code, and how much data is naturally missing, as a point of interest.\n",
    "\n",
    "**As one more reminder, you are encouraged to add additional cells to break up your analysis into manageable chunks.**"
   ]
  },
  {
   "cell_type": "code",
   "execution_count": 6,
   "metadata": {},
   "outputs": [
    {
     "name": "stdout",
     "output_type": "stream",
     "text": [
      "['[-1,0]', '[-1,0,9]', '[-1,0]', '[0]', '[-1]', '[-1]', '[-1]', '[-1]', '[-1]', '[-1]', '[-1]', '[0]', '[]', '[]', '[-1,0]', '[0]', '[0]', '[0]', '[0]', '[0]', '[0]', '[-1,0]', '[-1,0]', '[0]', '[-1,9]', '[-1,9]', '[-1,9]', '[-1,9]', '[-1,9]', '[-1,9]', '[-1,9]', '[-1,9]', '[-1,9]', '[-1,9]', '[-1,9]', '[-1,9]', '[-1,9]', '[-1,9]', '[-1]', '[-1]', '[-1,0]', '[-1]', '[-1,9]', '[0]', '[]', '[]', '[-1,0]', '[-1]', '[-1,0]', '[-1,0]', '[0]', '[]', '[-1,0]', '[]', '[0]', '[-1]', '[-1]', '[-1,X]', '[XX]', '[-1,XX]', '[-1]', '[-1]', '[-1]', '[-1]', '[-1,0]', '[-1,0]', '[-1]', '[-1]', '[-1]', '[]', '[-1,0]', '[]', '[]', '[-1,0]', '[]', '[-1]', '[-1]', '[-1]', '[-1]', '[-1,0]', '[-1]', '[-1]', '[-1,9]', '[-1,0]', '[-1,9]']\n"
     ]
    }
   ],
   "source": [
    "# the missing value code\n",
    "missing_value_code_feature = list(feat_info.missing_or_unknown.values)\n",
    "print(missing_value_code_feature)"
   ]
  },
  {
   "cell_type": "code",
   "execution_count": 7,
   "metadata": {},
   "outputs": [
    {
     "name": "stdout",
     "output_type": "stream",
     "text": [
      "Number of * XX * in column CAMEO_DEU_2015 is 373\n"
     ]
    }
   ],
   "source": [
    "# Identify missing or unknown data values and convert them to NaNs.\n",
    "\n",
    "# Get the number of \n",
    "cols_x=[]\n",
    "for index, value in enumerate(missing_value_code_feature):\n",
    "    if 'X' in value:\n",
    "        cols_x.append(index + 1)\n",
    "        \n",
    "df_x = azdias.iloc[:,cols_x]\n",
    "mis_col = feat_info.missing_or_unknown[cols_x[0]]\n",
    "mis_li = mis_col[1:len(mis_col)-1].split(',')\n",
    "col = df_x.columns[0]\n",
    "\n",
    "for value in mis_li:\n",
    "    print('Number of', '*',value.strip(),'*','in column',col,'is',df_x[col].value_counts()[value])"
   ]
  },
  {
   "cell_type": "code",
   "execution_count": 8,
   "metadata": {},
   "outputs": [
    {
     "name": "stdout",
     "output_type": "stream",
     "text": [
      "Missing Values for column AGER_TYP ['-1', '0']\n",
      "Number of * -1 * in column AGER_TYP is 677503\n",
      "Number of * 0 * in column AGER_TYP is 8340\n",
      "Missing Values for column ALTERSKATEGORIE_GROB ['-1', '0', '9']\n",
      "Number of * -1 * in column ALTERSKATEGORIE_GROB is 0\n",
      "Number of * 0 * in column ALTERSKATEGORIE_GROB is 0\n",
      "Number of * 9 * in column ALTERSKATEGORIE_GROB is 2881\n",
      "Missing Values for column ANREDE_KZ ['-1', '0']\n",
      "Number of * -1 * in column ANREDE_KZ is 0\n",
      "Number of * 0 * in column ANREDE_KZ is 0\n",
      "Missing Values for column CJT_GESAMTTYP ['0']\n",
      "Number of * 0 * in column CJT_GESAMTTYP is 0\n",
      "Missing Values for column FINANZ_MINIMALIST ['-1']\n",
      "Number of * -1 * in column FINANZ_MINIMALIST is 0\n",
      "Missing Values for column FINANZ_SPARER ['-1']\n",
      "Number of * -1 * in column FINANZ_SPARER is 0\n",
      "Missing Values for column FINANZ_VORSORGER ['-1']\n",
      "Number of * -1 * in column FINANZ_VORSORGER is 0\n",
      "Missing Values for column FINANZ_ANLEGER ['-1']\n",
      "Number of * -1 * in column FINANZ_ANLEGER is 0\n",
      "Missing Values for column FINANZ_UNAUFFAELLIGER ['-1']\n",
      "Number of * -1 * in column FINANZ_UNAUFFAELLIGER is 0\n",
      "Missing Values for column FINANZ_HAUSBAUER ['-1']\n",
      "Number of * -1 * in column FINANZ_HAUSBAUER is 0\n",
      "Missing Values for column FINANZTYP ['-1']\n",
      "Number of * -1 * in column FINANZTYP is 0\n",
      "Missing Values for column GEBURTSJAHR ['0']\n",
      "Number of * 0 * in column GEBURTSJAHR is 392318\n",
      "Missing Values for column GFK_URLAUBERTYP ['']\n",
      "Number of *  * in column GFK_URLAUBERTYP is 0\n",
      "Missing Values for column GREEN_AVANTGARDE ['']\n",
      "Number of *  * in column GREEN_AVANTGARDE is 0\n",
      "Missing Values for column HEALTH_TYP ['-1', '0']\n",
      "Number of * -1 * in column HEALTH_TYP is 111196\n",
      "Number of * 0 * in column HEALTH_TYP is 0\n",
      "Missing Values for column LP_LEBENSPHASE_FEIN ['0']\n",
      "Number of * 0 * in column LP_LEBENSPHASE_FEIN is 92778\n",
      "Missing Values for column LP_LEBENSPHASE_GROB ['0']\n",
      "Number of * 0 * in column LP_LEBENSPHASE_GROB is 89718\n",
      "Missing Values for column LP_FAMILIE_FEIN ['0']\n",
      "Number of * 0 * in column LP_FAMILIE_FEIN is 72938\n",
      "Missing Values for column LP_FAMILIE_GROB ['0']\n",
      "Number of * 0 * in column LP_FAMILIE_GROB is 72938\n",
      "Missing Values for column LP_STATUS_FEIN ['0']\n",
      "Number of * 0 * in column LP_STATUS_FEIN is 0\n",
      "Missing Values for column LP_STATUS_GROB ['0']\n",
      "Number of * 0 * in column LP_STATUS_GROB is 0\n",
      "Missing Values for column NATIONALITAET_KZ ['-1', '0']\n",
      "Number of * -1 * in column NATIONALITAET_KZ is 0\n",
      "Number of * 0 * in column NATIONALITAET_KZ is 108315\n",
      "Missing Values for column PRAEGENDE_JUGENDJAHRE ['-1', '0']\n",
      "Number of * -1 * in column PRAEGENDE_JUGENDJAHRE is 0\n",
      "Number of * 0 * in column PRAEGENDE_JUGENDJAHRE is 108164\n",
      "Missing Values for column RETOURTYP_BK_S ['0']\n",
      "Number of * 0 * in column RETOURTYP_BK_S is 0\n",
      "Missing Values for column SEMIO_SOZ ['-1', '9']\n",
      "Number of * -1 * in column SEMIO_SOZ is 0\n",
      "Number of * 9 * in column SEMIO_SOZ is 0\n",
      "Missing Values for column SEMIO_FAM ['-1', '9']\n",
      "Number of * -1 * in column SEMIO_FAM is 0\n",
      "Number of * 9 * in column SEMIO_FAM is 0\n",
      "Missing Values for column SEMIO_REL ['-1', '9']\n",
      "Number of * -1 * in column SEMIO_REL is 0\n",
      "Number of * 9 * in column SEMIO_REL is 0\n",
      "Missing Values for column SEMIO_MAT ['-1', '9']\n",
      "Number of * -1 * in column SEMIO_MAT is 0\n",
      "Number of * 9 * in column SEMIO_MAT is 0\n",
      "Missing Values for column SEMIO_VERT ['-1', '9']\n",
      "Number of * -1 * in column SEMIO_VERT is 0\n",
      "Number of * 9 * in column SEMIO_VERT is 0\n",
      "Missing Values for column SEMIO_LUST ['-1', '9']\n",
      "Number of * -1 * in column SEMIO_LUST is 0\n",
      "Number of * 9 * in column SEMIO_LUST is 0\n",
      "Missing Values for column SEMIO_ERL ['-1', '9']\n",
      "Number of * -1 * in column SEMIO_ERL is 0\n",
      "Number of * 9 * in column SEMIO_ERL is 0\n",
      "Missing Values for column SEMIO_KULT ['-1', '9']\n",
      "Number of * -1 * in column SEMIO_KULT is 0\n",
      "Number of * 9 * in column SEMIO_KULT is 0\n",
      "Missing Values for column SEMIO_RAT ['-1', '9']\n",
      "Number of * -1 * in column SEMIO_RAT is 0\n",
      "Number of * 9 * in column SEMIO_RAT is 0\n",
      "Missing Values for column SEMIO_KRIT ['-1', '9']\n",
      "Number of * -1 * in column SEMIO_KRIT is 0\n",
      "Number of * 9 * in column SEMIO_KRIT is 0\n",
      "Missing Values for column SEMIO_DOM ['-1', '9']\n",
      "Number of * -1 * in column SEMIO_DOM is 0\n",
      "Number of * 9 * in column SEMIO_DOM is 0\n",
      "Missing Values for column SEMIO_KAEM ['-1', '9']\n",
      "Number of * -1 * in column SEMIO_KAEM is 0\n",
      "Number of * 9 * in column SEMIO_KAEM is 0\n",
      "Missing Values for column SEMIO_PFLICHT ['-1', '9']\n",
      "Number of * -1 * in column SEMIO_PFLICHT is 0\n",
      "Number of * 9 * in column SEMIO_PFLICHT is 0\n",
      "Missing Values for column SEMIO_TRADV ['-1', '9']\n",
      "Number of * -1 * in column SEMIO_TRADV is 0\n",
      "Number of * 9 * in column SEMIO_TRADV is 0\n",
      "Missing Values for column SHOPPER_TYP ['-1']\n",
      "Number of * -1 * in column SHOPPER_TYP is 111196\n",
      "Missing Values for column SOHO_KZ ['-1']\n",
      "Number of * -1 * in column SOHO_KZ is 0\n",
      "Missing Values for column TITEL_KZ ['-1', '0']\n",
      "Number of * -1 * in column TITEL_KZ is 0\n",
      "Number of * 0 * in column TITEL_KZ is 815562\n",
      "Missing Values for column VERS_TYP ['-1']\n",
      "Number of * -1 * in column VERS_TYP is 111196\n",
      "Missing Values for column ZABEOTYP ['-1', '9']\n",
      "Number of * -1 * in column ZABEOTYP is 0\n",
      "Number of * 9 * in column ZABEOTYP is 0\n",
      "Missing Values for column ALTER_HH ['0']\n",
      "Number of * 0 * in column ALTER_HH is 236768\n",
      "Missing Values for column ANZ_PERSONEN ['']\n",
      "Number of *  * in column ANZ_PERSONEN is 0\n",
      "Missing Values for column ANZ_TITEL ['']\n",
      "Number of *  * in column ANZ_TITEL is 0\n",
      "Missing Values for column HH_EINKOMMEN_SCORE ['-1', '0']\n",
      "Number of * -1 * in column HH_EINKOMMEN_SCORE is 0\n",
      "Number of * 0 * in column HH_EINKOMMEN_SCORE is 0\n",
      "Missing Values for column KK_KUNDENTYP ['-1']\n",
      "Number of * -1 * in column KK_KUNDENTYP is 0\n",
      "Missing Values for column W_KEIT_KIND_HH ['-1', '0']\n",
      "Number of * -1 * in column W_KEIT_KIND_HH is 0\n",
      "Number of * 0 * in column W_KEIT_KIND_HH is 40386\n",
      "Missing Values for column WOHNDAUER_2008 ['-1', '0']\n",
      "Number of * -1 * in column WOHNDAUER_2008 is 0\n",
      "Number of * 0 * in column WOHNDAUER_2008 is 0\n",
      "Missing Values for column ANZ_HAUSHALTE_AKTIV ['0']\n",
      "Number of * 0 * in column ANZ_HAUSHALTE_AKTIV is 6463\n",
      "Missing Values for column ANZ_HH_TITEL ['']\n",
      "Number of *  * in column ANZ_HH_TITEL is 0\n",
      "Missing Values for column GEBAEUDETYP ['-1', '0']\n",
      "Number of * -1 * in column GEBAEUDETYP is 0\n",
      "Number of * 0 * in column GEBAEUDETYP is 0\n",
      "Missing Values for column KONSUMNAEHE ['']\n",
      "Number of *  * in column KONSUMNAEHE is 0\n",
      "Missing Values for column MIN_GEBAEUDEJAHR ['0']\n",
      "Number of * 0 * in column MIN_GEBAEUDEJAHR is 0\n",
      "Missing Values for column OST_WEST_KZ ['-1']\n",
      "Number of * -1 * in column OST_WEST_KZ is 0\n",
      "Missing Values for column WOHNLAGE ['-1']\n",
      "Number of * -1 * in column WOHNLAGE is 0\n",
      "Missing Values for column CAMEO_DEUG_2015 ['-1', 'X']\n",
      "Number of * -1 * in column CAMEO_DEUG_2015 is 0\n",
      "Number of * X * in column CAMEO_DEUG_2015 is 373\n",
      "Missing Values for column CAMEO_DEU_2015 ['XX']\n",
      "Number of * XX * in column CAMEO_DEU_2015 is 373\n",
      "Missing Values for column CAMEO_INTL_2015 ['-1', 'XX']\n",
      "Number of * -1 * in column CAMEO_INTL_2015 is 0\n",
      "Number of * XX * in column CAMEO_INTL_2015 is 373\n",
      "Missing Values for column KBA05_ANTG1 ['-1']\n",
      "Number of * -1 * in column KBA05_ANTG1 is 0\n",
      "Missing Values for column KBA05_ANTG2 ['-1']\n",
      "Number of * -1 * in column KBA05_ANTG2 is 0\n",
      "Missing Values for column KBA05_ANTG3 ['-1']\n",
      "Number of * -1 * in column KBA05_ANTG3 is 0\n",
      "Missing Values for column KBA05_ANTG4 ['-1']\n",
      "Number of * -1 * in column KBA05_ANTG4 is 0\n",
      "Missing Values for column KBA05_BAUMAX ['-1', '0']\n",
      "Number of * -1 * in column KBA05_BAUMAX is 0\n",
      "Number of * 0 * in column KBA05_BAUMAX is 343200\n",
      "Missing Values for column KBA05_GBZ ['-1', '0']\n",
      "Number of * -1 * in column KBA05_GBZ is 0\n",
      "Number of * 0 * in column KBA05_GBZ is 0\n",
      "Missing Values for column BALLRAUM ['-1']\n",
      "Number of * -1 * in column BALLRAUM is 0\n",
      "Missing Values for column EWDICHTE ['-1']\n",
      "Number of * -1 * in column EWDICHTE is 0\n",
      "Missing Values for column INNENSTADT ['-1']\n",
      "Number of * -1 * in column INNENSTADT is 0\n",
      "Missing Values for column GEBAEUDETYP_RASTER ['']\n",
      "Number of *  * in column GEBAEUDETYP_RASTER is 0\n",
      "Missing Values for column KKK ['-1', '0']\n",
      "Number of * -1 * in column KKK is 0\n",
      "Number of * 0 * in column KKK is 36868\n",
      "Missing Values for column MOBI_REGIO ['']\n",
      "Number of *  * in column MOBI_REGIO is 0\n",
      "Missing Values for column ONLINE_AFFINITAET ['']\n",
      "Number of *  * in column ONLINE_AFFINITAET is 0\n",
      "Missing Values for column REGIOTYP ['-1', '0']\n",
      "Number of * -1 * in column REGIOTYP is 0\n",
      "Number of * 0 * in column REGIOTYP is 36868\n",
      "Missing Values for column KBA13_ANZAHL_PKW ['']\n",
      "Number of *  * in column KBA13_ANZAHL_PKW is 0\n",
      "Missing Values for column PLZ8_ANTG1 ['-1']\n",
      "Number of * -1 * in column PLZ8_ANTG1 is 0\n",
      "Missing Values for column PLZ8_ANTG2 ['-1']\n",
      "Number of * -1 * in column PLZ8_ANTG2 is 0\n",
      "Missing Values for column PLZ8_ANTG3 ['-1']\n",
      "Number of * -1 * in column PLZ8_ANTG3 is 0\n",
      "Missing Values for column PLZ8_ANTG4 ['-1']\n",
      "Number of * -1 * in column PLZ8_ANTG4 is 0\n",
      "Missing Values for column PLZ8_BAUMAX ['-1', '0']\n",
      "Number of * -1 * in column PLZ8_BAUMAX is 0\n",
      "Number of * 0 * in column PLZ8_BAUMAX is 0\n",
      "Missing Values for column PLZ8_HHZ ['-1']\n",
      "Number of * -1 * in column PLZ8_HHZ is 0\n",
      "Missing Values for column PLZ8_GBZ ['-1']\n",
      "Number of * -1 * in column PLZ8_GBZ is 0\n",
      "Missing Values for column ARBEIT ['-1', '9']\n"
     ]
    },
    {
     "name": "stdout",
     "output_type": "stream",
     "text": [
      "Number of * -1 * in column ARBEIT is 0\n",
      "Number of * 9 * in column ARBEIT is 159\n",
      "Missing Values for column ORTSGR_KLS9 ['-1', '0']\n",
      "Number of * -1 * in column ORTSGR_KLS9 is 0\n",
      "Number of * 0 * in column ORTSGR_KLS9 is 58\n",
      "Missing Values for column RELAT_AB ['-1', '9']\n",
      "Number of * -1 * in column RELAT_AB is 0\n",
      "Number of * 9 * in column RELAT_AB is 159\n"
     ]
    }
   ],
   "source": [
    "# For Other values get the count\n",
    "for index in range(azdias.shape[1]):\n",
    "    \n",
    "    mis_col = feat_info.missing_or_unknown[index]\n",
    "    mis_li = mis_col[1:len(mis_col)-1].split(',')\n",
    "    \n",
    "    df_x = azdias.iloc[:,[index]]\n",
    "    column = df_x.columns[0]\n",
    "        \n",
    "    print('Missing Values for column',column,mis_li)\n",
    "    \n",
    "    for value in mis_li:\n",
    "        if value not in ['X','XX']:\n",
    "            if value != '' and int(value) in df_x[column].value_counts():\n",
    "                print('Number of', '*',value,'*','in column',column,'is',df_x[column].value_counts()[int(value)])\n",
    "            else:\n",
    "                print('Number of', '*',value,'*','in column',column,'is',0)\n",
    "        else:\n",
    "            if value in  df_x[column].value_counts():\n",
    "                print('Number of', '*',value,'*','in column',column,'is',df_x[column].value_counts()[value])\n",
    "            else:\n",
    "                print('Number of', '*',value,'*','in column',column,'is',0)"
   ]
  },
  {
   "cell_type": "code",
   "execution_count": 10,
   "metadata": {},
   "outputs": [],
   "source": [
    "# Convert those missing values to NaN's\n",
    "\n",
    "for index in range(azdias.shape[1]):\n",
    "    mis_col = feat_info.missing_or_unknown[index]\n",
    "    column = azdias.columns[index]\n",
    "    mis_li = mis_col[1:len(mis_col)-1].split(',')\n",
    "    for value in mis_li:\n",
    "        if value not in ['X','XX']:\n",
    "            if value !='' and int(value) in azdias[column].value_counts():\n",
    "                azdias[column] = azdias[column].replace(int(value),np.nan)\n",
    "        else:\n",
    "            azdias[column] = azdias[column].replace(value,np.nan)"
   ]
  },
  {
   "cell_type": "code",
   "execution_count": 11,
   "metadata": {},
   "outputs": [
    {
     "name": "stdout",
     "output_type": "stream",
     "text": [
      "Missing Values for column AGER_TYP ['-1', '0']\n",
      "Number of * -1 * in column AGER_TYP is 0\n",
      "Number of * 0 * in column AGER_TYP is 0\n",
      "Missing Values for column ALTERSKATEGORIE_GROB ['-1', '0', '9']\n",
      "Number of * -1 * in column ALTERSKATEGORIE_GROB is 0\n",
      "Number of * 0 * in column ALTERSKATEGORIE_GROB is 0\n",
      "Number of * 9 * in column ALTERSKATEGORIE_GROB is 0\n",
      "Missing Values for column ANREDE_KZ ['-1', '0']\n",
      "Number of * -1 * in column ANREDE_KZ is 0\n",
      "Number of * 0 * in column ANREDE_KZ is 0\n",
      "Missing Values for column CJT_GESAMTTYP ['0']\n",
      "Number of * 0 * in column CJT_GESAMTTYP is 0\n",
      "Missing Values for column FINANZ_MINIMALIST ['-1']\n",
      "Number of * -1 * in column FINANZ_MINIMALIST is 0\n",
      "Missing Values for column FINANZ_SPARER ['-1']\n",
      "Number of * -1 * in column FINANZ_SPARER is 0\n",
      "Missing Values for column FINANZ_VORSORGER ['-1']\n",
      "Number of * -1 * in column FINANZ_VORSORGER is 0\n",
      "Missing Values for column FINANZ_ANLEGER ['-1']\n",
      "Number of * -1 * in column FINANZ_ANLEGER is 0\n",
      "Missing Values for column FINANZ_UNAUFFAELLIGER ['-1']\n",
      "Number of * -1 * in column FINANZ_UNAUFFAELLIGER is 0\n",
      "Missing Values for column FINANZ_HAUSBAUER ['-1']\n",
      "Number of * -1 * in column FINANZ_HAUSBAUER is 0\n",
      "Missing Values for column FINANZTYP ['-1']\n",
      "Number of * -1 * in column FINANZTYP is 0\n",
      "Missing Values for column GEBURTSJAHR ['0']\n",
      "Number of * 0 * in column GEBURTSJAHR is 0\n",
      "Missing Values for column GFK_URLAUBERTYP ['']\n",
      "Number of *  * in column GFK_URLAUBERTYP is 0\n",
      "Missing Values for column GREEN_AVANTGARDE ['']\n",
      "Number of *  * in column GREEN_AVANTGARDE is 0\n",
      "Missing Values for column HEALTH_TYP ['-1', '0']\n",
      "Number of * -1 * in column HEALTH_TYP is 0\n",
      "Number of * 0 * in column HEALTH_TYP is 0\n",
      "Missing Values for column LP_LEBENSPHASE_FEIN ['0']\n",
      "Number of * 0 * in column LP_LEBENSPHASE_FEIN is 0\n",
      "Missing Values for column LP_LEBENSPHASE_GROB ['0']\n",
      "Number of * 0 * in column LP_LEBENSPHASE_GROB is 0\n",
      "Missing Values for column LP_FAMILIE_FEIN ['0']\n",
      "Number of * 0 * in column LP_FAMILIE_FEIN is 0\n",
      "Missing Values for column LP_FAMILIE_GROB ['0']\n",
      "Number of * 0 * in column LP_FAMILIE_GROB is 0\n",
      "Missing Values for column LP_STATUS_FEIN ['0']\n",
      "Number of * 0 * in column LP_STATUS_FEIN is 0\n",
      "Missing Values for column LP_STATUS_GROB ['0']\n",
      "Number of * 0 * in column LP_STATUS_GROB is 0\n",
      "Missing Values for column NATIONALITAET_KZ ['-1', '0']\n",
      "Number of * -1 * in column NATIONALITAET_KZ is 0\n",
      "Number of * 0 * in column NATIONALITAET_KZ is 0\n",
      "Missing Values for column PRAEGENDE_JUGENDJAHRE ['-1', '0']\n",
      "Number of * -1 * in column PRAEGENDE_JUGENDJAHRE is 0\n",
      "Number of * 0 * in column PRAEGENDE_JUGENDJAHRE is 0\n",
      "Missing Values for column RETOURTYP_BK_S ['0']\n",
      "Number of * 0 * in column RETOURTYP_BK_S is 0\n",
      "Missing Values for column SEMIO_SOZ ['-1', '9']\n",
      "Number of * -1 * in column SEMIO_SOZ is 0\n",
      "Number of * 9 * in column SEMIO_SOZ is 0\n",
      "Missing Values for column SEMIO_FAM ['-1', '9']\n",
      "Number of * -1 * in column SEMIO_FAM is 0\n",
      "Number of * 9 * in column SEMIO_FAM is 0\n",
      "Missing Values for column SEMIO_REL ['-1', '9']\n",
      "Number of * -1 * in column SEMIO_REL is 0\n",
      "Number of * 9 * in column SEMIO_REL is 0\n",
      "Missing Values for column SEMIO_MAT ['-1', '9']\n",
      "Number of * -1 * in column SEMIO_MAT is 0\n",
      "Number of * 9 * in column SEMIO_MAT is 0\n",
      "Missing Values for column SEMIO_VERT ['-1', '9']\n",
      "Number of * -1 * in column SEMIO_VERT is 0\n",
      "Number of * 9 * in column SEMIO_VERT is 0\n",
      "Missing Values for column SEMIO_LUST ['-1', '9']\n",
      "Number of * -1 * in column SEMIO_LUST is 0\n",
      "Number of * 9 * in column SEMIO_LUST is 0\n",
      "Missing Values for column SEMIO_ERL ['-1', '9']\n",
      "Number of * -1 * in column SEMIO_ERL is 0\n",
      "Number of * 9 * in column SEMIO_ERL is 0\n",
      "Missing Values for column SEMIO_KULT ['-1', '9']\n",
      "Number of * -1 * in column SEMIO_KULT is 0\n",
      "Number of * 9 * in column SEMIO_KULT is 0\n",
      "Missing Values for column SEMIO_RAT ['-1', '9']\n",
      "Number of * -1 * in column SEMIO_RAT is 0\n",
      "Number of * 9 * in column SEMIO_RAT is 0\n",
      "Missing Values for column SEMIO_KRIT ['-1', '9']\n",
      "Number of * -1 * in column SEMIO_KRIT is 0\n",
      "Number of * 9 * in column SEMIO_KRIT is 0\n",
      "Missing Values for column SEMIO_DOM ['-1', '9']\n",
      "Number of * -1 * in column SEMIO_DOM is 0\n",
      "Number of * 9 * in column SEMIO_DOM is 0\n",
      "Missing Values for column SEMIO_KAEM ['-1', '9']\n",
      "Number of * -1 * in column SEMIO_KAEM is 0\n",
      "Number of * 9 * in column SEMIO_KAEM is 0\n",
      "Missing Values for column SEMIO_PFLICHT ['-1', '9']\n",
      "Number of * -1 * in column SEMIO_PFLICHT is 0\n",
      "Number of * 9 * in column SEMIO_PFLICHT is 0\n",
      "Missing Values for column SEMIO_TRADV ['-1', '9']\n",
      "Number of * -1 * in column SEMIO_TRADV is 0\n",
      "Number of * 9 * in column SEMIO_TRADV is 0\n",
      "Missing Values for column SHOPPER_TYP ['-1']\n",
      "Number of * -1 * in column SHOPPER_TYP is 0\n",
      "Missing Values for column SOHO_KZ ['-1']\n",
      "Number of * -1 * in column SOHO_KZ is 0\n",
      "Missing Values for column TITEL_KZ ['-1', '0']\n",
      "Number of * -1 * in column TITEL_KZ is 0\n",
      "Number of * 0 * in column TITEL_KZ is 0\n",
      "Missing Values for column VERS_TYP ['-1']\n",
      "Number of * -1 * in column VERS_TYP is 0\n",
      "Missing Values for column ZABEOTYP ['-1', '9']\n",
      "Number of * -1 * in column ZABEOTYP is 0\n",
      "Number of * 9 * in column ZABEOTYP is 0\n",
      "Missing Values for column ALTER_HH ['0']\n",
      "Number of * 0 * in column ALTER_HH is 0\n",
      "Missing Values for column ANZ_PERSONEN ['']\n",
      "Number of *  * in column ANZ_PERSONEN is 0\n",
      "Missing Values for column ANZ_TITEL ['']\n",
      "Number of *  * in column ANZ_TITEL is 0\n",
      "Missing Values for column HH_EINKOMMEN_SCORE ['-1', '0']\n",
      "Number of * -1 * in column HH_EINKOMMEN_SCORE is 0\n",
      "Number of * 0 * in column HH_EINKOMMEN_SCORE is 0\n",
      "Missing Values for column KK_KUNDENTYP ['-1']\n",
      "Number of * -1 * in column KK_KUNDENTYP is 0\n",
      "Missing Values for column W_KEIT_KIND_HH ['-1', '0']\n",
      "Number of * -1 * in column W_KEIT_KIND_HH is 0\n",
      "Number of * 0 * in column W_KEIT_KIND_HH is 0\n",
      "Missing Values for column WOHNDAUER_2008 ['-1', '0']\n",
      "Number of * -1 * in column WOHNDAUER_2008 is 0\n",
      "Number of * 0 * in column WOHNDAUER_2008 is 0\n",
      "Missing Values for column ANZ_HAUSHALTE_AKTIV ['0']\n",
      "Number of * 0 * in column ANZ_HAUSHALTE_AKTIV is 0\n",
      "Missing Values for column ANZ_HH_TITEL ['']\n",
      "Number of *  * in column ANZ_HH_TITEL is 0\n",
      "Missing Values for column GEBAEUDETYP ['-1', '0']\n",
      "Number of * -1 * in column GEBAEUDETYP is 0\n",
      "Number of * 0 * in column GEBAEUDETYP is 0\n",
      "Missing Values for column KONSUMNAEHE ['']\n",
      "Number of *  * in column KONSUMNAEHE is 0\n",
      "Missing Values for column MIN_GEBAEUDEJAHR ['0']\n",
      "Number of * 0 * in column MIN_GEBAEUDEJAHR is 0\n",
      "Missing Values for column OST_WEST_KZ ['-1']\n",
      "Number of * -1 * in column OST_WEST_KZ is 0\n",
      "Missing Values for column WOHNLAGE ['-1']\n",
      "Number of * -1 * in column WOHNLAGE is 0\n",
      "Missing Values for column CAMEO_DEUG_2015 ['-1', 'X']\n",
      "Number of * -1 * in column CAMEO_DEUG_2015 is 0\n",
      "Number of * X * in column CAMEO_DEUG_2015 is 0\n",
      "Missing Values for column CAMEO_DEU_2015 ['XX']\n",
      "Number of * XX * in column CAMEO_DEU_2015 is 0\n",
      "Missing Values for column CAMEO_INTL_2015 ['-1', 'XX']\n",
      "Number of * -1 * in column CAMEO_INTL_2015 is 0\n",
      "Number of * XX * in column CAMEO_INTL_2015 is 0\n",
      "Missing Values for column KBA05_ANTG1 ['-1']\n",
      "Number of * -1 * in column KBA05_ANTG1 is 0\n",
      "Missing Values for column KBA05_ANTG2 ['-1']\n",
      "Number of * -1 * in column KBA05_ANTG2 is 0\n",
      "Missing Values for column KBA05_ANTG3 ['-1']\n",
      "Number of * -1 * in column KBA05_ANTG3 is 0\n",
      "Missing Values for column KBA05_ANTG4 ['-1']\n",
      "Number of * -1 * in column KBA05_ANTG4 is 0\n",
      "Missing Values for column KBA05_BAUMAX ['-1', '0']\n",
      "Number of * -1 * in column KBA05_BAUMAX is 0\n",
      "Number of * 0 * in column KBA05_BAUMAX is 0\n",
      "Missing Values for column KBA05_GBZ ['-1', '0']\n",
      "Number of * -1 * in column KBA05_GBZ is 0\n",
      "Number of * 0 * in column KBA05_GBZ is 0\n",
      "Missing Values for column BALLRAUM ['-1']\n",
      "Number of * -1 * in column BALLRAUM is 0\n",
      "Missing Values for column EWDICHTE ['-1']\n",
      "Number of * -1 * in column EWDICHTE is 0\n",
      "Missing Values for column INNENSTADT ['-1']\n",
      "Number of * -1 * in column INNENSTADT is 0\n",
      "Missing Values for column GEBAEUDETYP_RASTER ['']\n",
      "Number of *  * in column GEBAEUDETYP_RASTER is 0\n",
      "Missing Values for column KKK ['-1', '0']\n",
      "Number of * -1 * in column KKK is 0\n",
      "Number of * 0 * in column KKK is 0\n",
      "Missing Values for column MOBI_REGIO ['']\n",
      "Number of *  * in column MOBI_REGIO is 0\n",
      "Missing Values for column ONLINE_AFFINITAET ['']\n",
      "Number of *  * in column ONLINE_AFFINITAET is 0\n",
      "Missing Values for column REGIOTYP ['-1', '0']\n",
      "Number of * -1 * in column REGIOTYP is 0\n",
      "Number of * 0 * in column REGIOTYP is 0\n",
      "Missing Values for column KBA13_ANZAHL_PKW ['']\n",
      "Number of *  * in column KBA13_ANZAHL_PKW is 0\n",
      "Missing Values for column PLZ8_ANTG1 ['-1']\n",
      "Number of * -1 * in column PLZ8_ANTG1 is 0\n",
      "Missing Values for column PLZ8_ANTG2 ['-1']\n",
      "Number of * -1 * in column PLZ8_ANTG2 is 0\n",
      "Missing Values for column PLZ8_ANTG3 ['-1']\n",
      "Number of * -1 * in column PLZ8_ANTG3 is 0\n",
      "Missing Values for column PLZ8_ANTG4 ['-1']\n",
      "Number of * -1 * in column PLZ8_ANTG4 is 0\n",
      "Missing Values for column PLZ8_BAUMAX ['-1', '0']\n",
      "Number of * -1 * in column PLZ8_BAUMAX is 0\n",
      "Number of * 0 * in column PLZ8_BAUMAX is 0\n",
      "Missing Values for column PLZ8_HHZ ['-1']\n",
      "Number of * -1 * in column PLZ8_HHZ is 0\n",
      "Missing Values for column PLZ8_GBZ ['-1']\n",
      "Number of * -1 * in column PLZ8_GBZ is 0\n",
      "Missing Values for column ARBEIT ['-1', '9']\n"
     ]
    },
    {
     "name": "stdout",
     "output_type": "stream",
     "text": [
      "Number of * -1 * in column ARBEIT is 0\n",
      "Number of * 9 * in column ARBEIT is 0\n",
      "Missing Values for column ORTSGR_KLS9 ['-1', '0']\n",
      "Number of * -1 * in column ORTSGR_KLS9 is 0\n",
      "Number of * 0 * in column ORTSGR_KLS9 is 0\n",
      "Missing Values for column RELAT_AB ['-1', '9']\n",
      "Number of * -1 * in column RELAT_AB is 0\n",
      "Number of * 9 * in column RELAT_AB is 0\n"
     ]
    }
   ],
   "source": [
    "# Check Again Now it should be 0\n",
    "for index in range(azdias.shape[1]):\n",
    "    mis_col = feat_info.missing_or_unknown[index]\n",
    "    mis_li= mis_col[1:len(mis_col)-1].split(',')\n",
    "    \n",
    "    df_x = azdias.iloc[:,[index]]\n",
    "    column = df_x.columns[0] \n",
    "    \n",
    "    print('Missing Values for column', column, mis_li)\n",
    "    \n",
    "    for value in mis_li:\n",
    "        if value not in ['X','XX']:\n",
    "            if value != '' and int(value) in df_x[column].value_counts():\n",
    "                print('Number of', '*',value,'*','in column',column,'is',df_x[column].value_counts()[int(value)])\n",
    "            else:\n",
    "                print('Number of', '*',value,'*','in column',column,'is',0)\n",
    "        else:\n",
    "            if value in  df_x[column].value_counts():\n",
    "                print('Number of', '*',value,'*','in column',column,'is',df_x[column].value_counts()[value])\n",
    "            else:\n",
    "                print('Number of', '*',value,'*','in column',column,'is',0)"
   ]
  },
  {
   "cell_type": "code",
   "execution_count": 12,
   "metadata": {},
   "outputs": [
    {
     "data": {
      "text/plain": [
       "NaN     685843\n",
       " 2.0     98472\n",
       " 1.0     79802\n",
       " 3.0     27104\n",
       "Name: AGER_TYP, dtype: int64"
      ]
     },
     "execution_count": 12,
     "metadata": {},
     "output_type": "execute_result"
    }
   ],
   "source": [
    "# Check whether it is replaced with NaN\n",
    "azdias.AGER_TYP.value_counts(dropna=False)\n",
    "# No [-1,0] we preprocessed it"
   ]
  },
  {
   "cell_type": "markdown",
   "metadata": {},
   "source": [
    "#### Step 1.1.2: Assess Missing Data in Each Column\n",
    "\n",
    "How much missing data is present in each column? There are a few columns that are outliers in terms of the proportion of values that are missing. You will want to use matplotlib's [`hist()`](https://matplotlib.org/api/_as_gen/matplotlib.pyplot.hist.html) function to visualize the distribution of missing value counts to find these columns. Identify and document these columns. While some of these columns might have justifications for keeping or re-encoding the data, for this project you should just remove them from the dataframe. (Feel free to make remarks about these outlier columns in the discussion, however!)\n",
    "\n",
    "For the remaining features, are there any patterns in which columns have, or share, missing data?"
   ]
  },
  {
   "cell_type": "code",
   "execution_count": 13,
   "metadata": {},
   "outputs": [
    {
     "data": {
      "image/png": "[encoded data removed]",
      "text/plain": [
       "<matplotlib.figure.Figure at 0x7f82f9eacb00>"
      ]
     },
     "metadata": {},
     "output_type": "display_data"
    }
   ],
   "source": [
    "# Perform an assessment of how much missing data there is in each column of the\n",
    "# dataset.\n",
    "\n",
    "count_nan = azdias.isnull().sum(axis = 0).values\n",
    "# Normalize values to percentages\n",
    "total_row = azdias.shape[0]\n",
    "\n",
    "count_nan = [ round(value * 100 / total_row) for value in count_nan ]\n",
    "bins = np.arange(0,100+5,5)\n",
    "\n",
    "plt.hist(count_nan, bins=bins);"
   ]
  },
  {
   "cell_type": "code",
   "execution_count": 14,
   "metadata": {},
   "outputs": [
    {
     "data": {
      "text/html": [
       "<div>\n",
       "<style>\n",
       "    .dataframe thead tr:only-child th {\n",
       "        text-align: right;\n",
       "    }\n",
       "\n",
       "    .dataframe thead th {\n",
       "        text-align: left;\n",
       "    }\n",
       "\n",
       "    .dataframe tbody tr th {\n",
       "        vertical-align: top;\n",
       "    }\n",
       "</style>\n",
       "<table border=\"1\" class=\"dataframe\">\n",
       "  <thead>\n",
       "    <tr style=\"text-align: right;\">\n",
       "      <th></th>\n",
       "      <th>val</th>\n",
       "    </tr>\n",
       "  </thead>\n",
       "  <tbody>\n",
       "    <tr>\n",
       "      <th>count</th>\n",
       "      <td>85.000000</td>\n",
       "    </tr>\n",
       "    <tr>\n",
       "      <th>mean</th>\n",
       "      <td>11.058824</td>\n",
       "    </tr>\n",
       "    <tr>\n",
       "      <th>std</th>\n",
       "      <td>16.460163</td>\n",
       "    </tr>\n",
       "    <tr>\n",
       "      <th>min</th>\n",
       "      <td>0.000000</td>\n",
       "    </tr>\n",
       "    <tr>\n",
       "      <th>25%</th>\n",
       "      <td>0.000000</td>\n",
       "    </tr>\n",
       "    <tr>\n",
       "      <th>50%</th>\n",
       "      <td>10.000000</td>\n",
       "    </tr>\n",
       "    <tr>\n",
       "      <th>75%</th>\n",
       "      <td>13.000000</td>\n",
       "    </tr>\n",
       "    <tr>\n",
       "      <th>max</th>\n",
       "      <td>100.000000</td>\n",
       "    </tr>\n",
       "  </tbody>\n",
       "</table>\n",
       "</div>"
      ],
      "text/plain": [
       "              val\n",
       "count   85.000000\n",
       "mean    11.058824\n",
       "std     16.460163\n",
       "min      0.000000\n",
       "25%      0.000000\n",
       "50%     10.000000\n",
       "75%     13.000000\n",
       "max    100.000000"
      ]
     },
     "execution_count": 14,
     "metadata": {},
     "output_type": "execute_result"
    }
   ],
   "source": [
    "# Investigate patterns in the amount of missing data in each column.\n",
    "pd.DataFrame({'val':count_nan}).describe()\n"
   ]
  },
  {
   "cell_type": "code",
   "execution_count": 15,
   "metadata": {},
   "outputs": [
    {
     "data": {
      "image/png": "[encoded data removed]",
      "text/plain": [
       "<matplotlib.figure.Figure at 0x7f82f9ee2ac8>"
      ]
     },
     "metadata": {},
     "output_type": "display_data"
    }
   ],
   "source": [
    "sns.distplot(count_nan, bins = bins);"
   ]
  },
  {
   "cell_type": "code",
   "execution_count": 16,
   "metadata": {},
   "outputs": [],
   "source": [
    "pat_dict = {}\n",
    "for index,value in enumerate(count_nan):\n",
    "    if value in pat_dict:\n",
    "        pat_dict[value].append(index)\n",
    "    else:\n",
    "        pat_dict[value] = []\n",
    "        pat_dict[value].append(index)"
   ]
  },
  {
   "cell_type": "code",
   "execution_count": 17,
   "metadata": {},
   "outputs": [
    {
     "name": "stdout",
     "output_type": "stream",
     "text": [
      "The columns [3, 12, 19, 20, 23, 72] have null values of percentage 1.0\n",
      "The columns [14, 21, 22, 38, 41, 74] have null values of percentage 12.0\n",
      "The columns [15, 16, 50, 51, 57, 58, 59, 66, 67, 68, 82, 83, 84] have null values of percentage 11.0\n",
      "The columns [17, 18] have null values of percentage 9.0\n",
      "The columns [39, 44, 45, 49, 53] have null values of percentage 8.0\n",
      "The columns [52, 54, 55, 56, 69] have null values of percentage 10.0\n",
      "The columns [60, 61, 62, 63, 65, 71] have null values of percentage 15.0\n",
      "The columns [70, 73] have null values of percentage 18.0\n",
      "The columns [75, 76, 77, 78, 79, 80, 81] have null values of percentage 13.0\n"
     ]
    }
   ],
   "source": [
    "for index, value in pat_dict.items():\n",
    "    if index == 0 or index > 20:\n",
    "        pass\n",
    "    elif len(value) >= 2:\n",
    "        print('The columns',value,'have null values of percentage',index)"
   ]
  },
  {
   "cell_type": "code",
   "execution_count": 19,
   "metadata": {},
   "outputs": [],
   "source": [
    "# Remove the outlier columns from the dataset. (You'll perform other data\n",
    "# engineering tasks such as re-encoding and imputation later.)\n",
    "\n",
    "#Get the columns which have more than 20 % of missing data\n",
    "dropped_columns = []\n",
    "for index,value in enumerate(count_nan):\n",
    "    if value > 20:\n",
    "        dropped_columns.append(index)\n",
    "        \n",
    "azdias_drop = azdias\n",
    "azdias_drop_columns = list(azdias_drop.columns[dropped_columns])\n",
    "azdias_drop = azdias_drop.drop(azdias_drop_columns,axis=1)\n"
   ]
  },
  {
   "cell_type": "markdown",
   "metadata": {},
   "source": [
    "#### Discussion 1.1.2: Assess Missing Data in Each Column\n",
    "\n",
    "Most columns have some amount of missing data, but most below 20%.\n",
    "\n",
    "TITEL_KZ, AGER_TYP, KK_KUNDENTYP, KBA05_BAUMAX, GEBURTSJAHR, ALTER_HH have been removed because they have more than 20% of data missing.\n",
    "\n",
    "The FINANZ and SEMIO feature sets are both complete, lacking any missing values.\n",
    "\n",
    "The CAMEO_ / RR4-level features have 11% missing values.\n",
    "The KBA05_[60,61,62,63] features all have 15.0% missing values."
   ]
  },
  {
   "cell_type": "code",
   "execution_count": null,
   "metadata": {},
   "outputs": [],
   "source": []
  },
  {
   "cell_type": "markdown",
   "metadata": {},
   "source": [
    "#### Step 1.1.3: Assess Missing Data in Each Row\n",
    "\n",
    "Now, you'll perform a similar assessment for the rows of the dataset. How much data is missing in each row? As with the columns, you should see some groups of points that have a very different numbers of missing values. Divide the data into two subsets: one for data points that are above some threshold for missing values, and a second subset for points below that threshold.\n",
    "\n",
    "In order to know what to do with the outlier rows, we should see if the distribution of data values on columns that are not missing data (or are missing very little data) are similar or different between the two groups. Select at least five of these columns and compare the distribution of values.\n",
    "- You can use seaborn's [`countplot()`](https://seaborn.pydata.org/generated/seaborn.countplot.html) function to create a bar chart of code frequencies and matplotlib's [`subplot()`](https://matplotlib.org/api/_as_gen/matplotlib.pyplot.subplot.html) function to put bar charts for the two subplots side by side.\n",
    "- To reduce repeated code, you might want to write a function that can perform this comparison, taking as one of its arguments a column to be compared.\n",
    "\n",
    "Depending on what you observe in your comparison, this will have implications on how you approach your conclusions later in the analysis. If the distributions of non-missing features look similar between the data with many missing values and the data with few or no missing values, then we could argue that simply dropping those points from the analysis won't present a major issue. On the other hand, if the data with many missing values looks very different from the data with few or no missing values, then we should make a note on those data as special. We'll revisit these data later on. **Either way, you should continue your analysis for now using just the subset of the data with few or no missing values.**"
   ]
  },
  {
   "cell_type": "code",
   "execution_count": 20,
   "metadata": {},
   "outputs": [
    {
     "name": "stdout",
     "output_type": "stream",
     "text": [
      "Rows with missing data 5035304\n"
     ]
    }
   ],
   "source": [
    "# How much data is missing in each row of the dataset?\n",
    "row_with_missing_data = azdias_drop.isnull().sum(axis=1).values\n",
    "print(\"Rows with missing data\", sum(row_with_missing_data))\n"
   ]
  },
  {
   "cell_type": "code",
   "execution_count": 21,
   "metadata": {},
   "outputs": [
    {
     "data": {
      "image/png": "[encoded data removed]",
      "text/plain": [
       "<matplotlib.figure.Figure at 0x7f82f9de1cc0>"
      ]
     },
     "metadata": {},
     "output_type": "display_data"
    }
   ],
   "source": [
    "# Plot the bar chart of the rows with missing data\n",
    "sns.countplot(row_with_missing_data, color = 'blue');"
   ]
  },
  {
   "cell_type": "code",
   "execution_count": 22,
   "metadata": {},
   "outputs": [],
   "source": [
    "# Write code to divide the data into two subsets based on the number of missing\n",
    "# values in each row.\n",
    "\n",
    "azdias_subset1 = azdias_drop.loc[row_with_missing_data <= 20]\n",
    "azdias_subset2 = azdias_drop.loc[row_with_missing_data > 20]\n",
    "\n"
   ]
  },
  {
   "cell_type": "code",
   "execution_count": 23,
   "metadata": {},
   "outputs": [],
   "source": [
    "def compare_plot(plot1, plot2, index):\n",
    "    title = \"2 subsets distribution of \" + str(plot1.columns[index - 1])\n",
    "    \n",
    "    plt.suptitle(title)\n",
    "    plt.subplot(121)\n",
    "    sns.countplot(plot1.iloc[:,index - 1].values, color = \"blue\")\n",
    "    plt.subplot(122)\n",
    "    sns.countplot(plot2.iloc[:,index - 1].values, color = \"blue\")"
   ]
  },
  {
   "cell_type": "code",
   "execution_count": 24,
   "metadata": {},
   "outputs": [],
   "source": [
    "# Compare the distribution of values for at least five columns where there are\n",
    "# no or few missing values, between the two subsets.\n",
    "columns_selected = [3, 4, 5, 6, 7]\n",
    "azdias_subset1_dist = azdias_subset1.iloc[:,columns_selected]\n",
    "azdias_subset2_dist = azdias_subset2.iloc[:,columns_selected]\n",
    "\n",
    "\n",
    "\n"
   ]
  },
  {
   "cell_type": "code",
   "execution_count": 25,
   "metadata": {},
   "outputs": [
    {
     "data": {
      "image/png": "[encoded data removed]",
      "text/plain": [
       "<matplotlib.figure.Figure at 0x7f82f7cfe0f0>"
      ]
     },
     "metadata": {},
     "output_type": "display_data"
    }
   ],
   "source": [
    "# Plot the distibution\n",
    "\n",
    "#for index in colums_selected: \n",
    "compare_plot(azdias_subset1_dist, azdias_subset2_dist, 1)"
   ]
  },
  {
   "cell_type": "code",
   "execution_count": 26,
   "metadata": {},
   "outputs": [
    {
     "data": {
      "image/png": "[encoded data removed]",
      "text/plain": [
       "<matplotlib.figure.Figure at 0x7f82f7aacb38>"
      ]
     },
     "metadata": {},
     "output_type": "display_data"
    }
   ],
   "source": [
    "\n",
    "compare_plot(azdias_subset1_dist, azdias_subset2_dist, 2)"
   ]
  },
  {
   "cell_type": "code",
   "execution_count": 27,
   "metadata": {},
   "outputs": [
    {
     "data": {
      "image/png": "[encoded data removed]",
      "text/plain": [
       "<matplotlib.figure.Figure at 0x7f82f7a1dc18>"
      ]
     },
     "metadata": {},
     "output_type": "display_data"
    }
   ],
   "source": [
    "compare_plot(azdias_subset1_dist, azdias_subset2_dist, 3)"
   ]
  },
  {
   "cell_type": "code",
   "execution_count": 28,
   "metadata": {},
   "outputs": [
    {
     "data": {
      "image/png": "[encoded data removed]",
      "text/plain": [
       "<matplotlib.figure.Figure at 0x7f82f79cd748>"
      ]
     },
     "metadata": {},
     "output_type": "display_data"
    }
   ],
   "source": [
    "\n",
    "compare_plot(azdias_subset1_dist, azdias_subset2_dist, 4)"
   ]
  },
  {
   "cell_type": "code",
   "execution_count": 29,
   "metadata": {},
   "outputs": [
    {
     "data": {
      "image/png": "[encoded data removed]",
      "text/plain": [
       "<matplotlib.figure.Figure at 0x7f82f7912cc0>"
      ]
     },
     "metadata": {},
     "output_type": "display_data"
    }
   ],
   "source": [
    "compare_plot(azdias_subset1_dist, azdias_subset2_dist, 5)"
   ]
  },
  {
   "cell_type": "markdown",
   "metadata": {},
   "source": [
    "#### Discussion 1.1.3: Assess Missing Data in Each Row\n",
    "Based on the chart, the two subsets distributions are different from one another. The second sub-chart with lots of missing data is qualitatively different from the first sub-chart with few missing data."
   ]
  },
  {
   "cell_type": "markdown",
   "metadata": {},
   "source": [
    "### Step 1.2: Select and Re-Encode Features\n",
    "\n",
    "Checking for missing data isn't the only way in which you can prepare a dataset for analysis. Since the unsupervised learning techniques to be used will only work on data that is encoded numerically, you need to make a few encoding changes or additional assumptions to be able to make progress. In addition, while almost all of the values in the dataset are encoded using numbers, not all of them represent numeric values. Check the third column of the feature summary (`feat_info`) for a summary of types of measurement.\n",
    "- For numeric and interval data, these features can be kept without changes.\n",
    "- Most of the variables in the dataset are ordinal in nature. While ordinal values may technically be non-linear in spacing, make the simplifying assumption that the ordinal variables can be treated as being interval in nature (that is, kept without any changes).\n",
    "- Special handling may be necessary for the remaining two variable types: categorical, and 'mixed'.\n",
    "\n",
    "In the first two parts of this sub-step, you will perform an investigation of the categorical and mixed-type features and make a decision on each of them, whether you will keep, drop, or re-encode each. Then, in the last part, you will create a new data frame with only the selected and engineered columns.\n",
    "\n",
    "Data wrangling is often the trickiest part of the data analysis process, and there's a lot of it to be done here. But stick with it: once you're done with this step, you'll be ready to get to the machine learning parts of the project!"
   ]
  },
  {
   "cell_type": "code",
   "execution_count": 30,
   "metadata": {},
   "outputs": [
    {
     "name": "stdout",
     "output_type": "stream",
     "text": [
      "Features data type count {'ordinal': 49, 'categorical': 18, 'mixed': 6, 'numeric': 6}\n"
     ]
    }
   ],
   "source": [
    "# How many features are there of each data type?\n",
    "\n",
    "feature_type = {}\n",
    "\n",
    "column_types = []\n",
    "\n",
    "for column in azdias_subset1.columns.values:\n",
    "    \n",
    "    column_type = feat_info.loc[feat_info['attribute'] == column]['type'].values[0]\n",
    "    \n",
    "    column_types.append(column_type)\n",
    "    \n",
    "    if column_type in feature_type:\n",
    "        feature_type[column_type] += 1\n",
    "    else:\n",
    "        feature_type[column_type] = 1\n",
    "        \n",
    "print(\"Features data type count \" + str(feature_type))\n"
   ]
  },
  {
   "cell_type": "markdown",
   "metadata": {},
   "source": [
    "#### Step 1.2.1: Re-Encode Categorical Features\n",
    "\n",
    "For categorical data, you would ordinarily need to encode the levels as dummy variables. Depending on the number of categories, perform one of the following:\n",
    "- For binary (two-level) categoricals that take numeric values, you can keep them without needing to do anything.\n",
    "- There is one binary variable that takes on non-numeric values. For this one, you need to re-encode the values as numbers or create a dummy variable.\n",
    "- For multi-level categoricals (three or more values), you can choose to encode the values using multiple dummy variables (e.g. via [OneHotEncoder](http://scikit-learn.org/stable/modules/generated/sklearn.preprocessing.OneHotEncoder.html)), or (to keep things straightforward) just drop them from the analysis. As always, document your choices in the Discussion section."
   ]
  },
  {
   "cell_type": "code",
   "execution_count": 32,
   "metadata": {},
   "outputs": [
    {
     "data": {
      "text/plain": [
       "['ANREDE_KZ', 'GREEN_AVANTGARDE', 'SOHO_KZ', 'VERS_TYP', 'OST_WEST_KZ']"
      ]
     },
     "execution_count": 32,
     "metadata": {},
     "output_type": "execute_result"
    }
   ],
   "source": [
    "# Assess categorical variables: which are binary, which are multi-level, and\n",
    "# which one needs to be re-encoded?\n",
    "binary=[]\n",
    "multi=[]\n",
    "for index,column in enumerate(column_types):\n",
    "    if column == 'categorical':\n",
    "        count=azdias_subset1.iloc[:,index].value_counts().count()\n",
    "        if count == 2:\n",
    "            binary.append(azdias_subset1.columns.values[index])\n",
    "        else:\n",
    "            multi.append(azdias_subset1.columns.values[index])\n",
    "binary\n"
   ]
  },
  {
   "cell_type": "code",
   "execution_count": 33,
   "metadata": {},
   "outputs": [
    {
     "name": "stdout",
     "output_type": "stream",
     "text": [
      "2    415781\n",
      "1    381645\n",
      "Name: ANREDE_KZ, dtype: int64\n",
      "0    622259\n",
      "1    175167\n",
      "Name: GREEN_AVANTGARDE, dtype: int64\n",
      "0.0    790714\n",
      "1.0      6712\n",
      "Name: SOHO_KZ, dtype: int64\n",
      "2.0    394161\n",
      "1.0    366848\n",
      "Name: VERS_TYP, dtype: int64\n",
      "W    628987\n",
      "O    168439\n",
      "Name: OST_WEST_KZ, dtype: int64\n"
     ]
    }
   ],
   "source": [
    "# Re-encode categorical variable(s) to be kept in the analysis.\n",
    "for column in binary:\n",
    "    print(azdias_subset1[column].value_counts())\n"
   ]
  },
  {
   "cell_type": "code",
   "execution_count": 34,
   "metadata": {},
   "outputs": [
    {
     "name": "stderr",
     "output_type": "stream",
     "text": [
      "/opt/conda/lib/python3.6/site-packages/ipykernel_launcher.py:3: SettingWithCopyWarning: \n",
      "A value is trying to be set on a copy of a slice from a DataFrame.\n",
      "Try using .loc[row_indexer,col_indexer] = value instead\n",
      "\n",
      "See the caveats in the documentation: http://pandas.pydata.org/pandas-docs/stable/indexing.html#indexing-view-versus-copy\n",
      "  This is separate from the ipykernel package so we can avoid doing imports until\n",
      "/opt/conda/lib/python3.6/site-packages/ipykernel_launcher.py:4: SettingWithCopyWarning: \n",
      "A value is trying to be set on a copy of a slice from a DataFrame.\n",
      "Try using .loc[row_indexer,col_indexer] = value instead\n",
      "\n",
      "See the caveats in the documentation: http://pandas.pydata.org/pandas-docs/stable/indexing.html#indexing-view-versus-copy\n",
      "  after removing the cwd from sys.path.\n"
     ]
    }
   ],
   "source": [
    "# Encode the OST_WEST_KZ variable with 0 and 1\n",
    "encode_column = \"OST_WEST_KZ\"\n",
    "azdias_subset1[encode_column] = azdias_subset1[encode_column].replace(\"W\", 1);\n",
    "azdias_subset1[encode_column] = azdias_subset1[encode_column].replace(\"0\", 0);\n"
   ]
  },
  {
   "cell_type": "code",
   "execution_count": 35,
   "metadata": {},
   "outputs": [
    {
     "name": "stdout",
     "output_type": "stream",
     "text": [
      "OST_WEST_KZ values of W and O as be replaced with 1 and 0 respectively\n"
     ]
    },
    {
     "data": {
      "text/plain": [
       "1    628987\n",
       "O    168439\n",
       "Name: OST_WEST_KZ, dtype: int64"
      ]
     },
     "execution_count": 35,
     "metadata": {},
     "output_type": "execute_result"
    }
   ],
   "source": [
    "print(encode_column +\" values of W and O as be replaced with 1 and 0 respectively\");\n",
    "azdias_subset1[encode_column].value_counts()\n"
   ]
  },
  {
   "cell_type": "code",
   "execution_count": 36,
   "metadata": {},
   "outputs": [
    {
     "data": {
      "text/plain": [
       "13"
      ]
     },
     "execution_count": 36,
     "metadata": {},
     "output_type": "execute_result"
    }
   ],
   "source": [
    "len(multi)"
   ]
  },
  {
   "cell_type": "code",
   "execution_count": 37,
   "metadata": {},
   "outputs": [
    {
     "data": {
      "text/plain": [
       "194"
      ]
     },
     "execution_count": 37,
     "metadata": {},
     "output_type": "execute_result"
    }
   ],
   "source": [
    "encode = OneHotEncoder()\n",
    "\n",
    "azdias_subset1_one_hot = pd.get_dummies(azdias_subset1, columns=multi)\n",
    "len(azdias_subset1_one_hot.columns)"
   ]
  },
  {
   "cell_type": "markdown",
   "metadata": {},
   "source": [
    "#### Discussion 1.2.1: Re-Encode Categorical Features\n",
    "\n",
    "Categorical features are \n",
    "* 5 binary variables\n",
    "* 13 multi categorical variables\n",
    "* 194 variable after applying one hot encoding.\n",
    "* OST_WEST_KZ variable has been converted to binary numbers from binary variables.\n"
   ]
  },
  {
   "cell_type": "markdown",
   "metadata": {},
   "source": [
    "#### Step 1.2.2: Engineer Mixed-Type Features\n",
    "\n",
    "There are a handful of features that are marked as \"mixed\" in the feature summary that require special treatment in order to be included in the analysis. There are two in particular that deserve attention; the handling of the rest are up to your own choices:\n",
    "- \"PRAEGENDE_JUGENDJAHRE\" combines information on three dimensions: generation by decade, movement (mainstream vs. avantgarde), and nation (east vs. west). While there aren't enough levels to disentangle east from west, you should create two new variables to capture the other two dimensions: an interval-type variable for decade, and a binary variable for movement.\n",
    "- \"CAMEO_INTL_2015\" combines information on two axes: wealth and life stage. Break up the two-digit codes by their 'tens'-place and 'ones'-place digits into two new ordinal variables (which, for the purposes of this project, is equivalent to just treating them as their raw numeric values).\n",
    "- If you decide to keep or engineer new features around the other mixed-type features, make sure you note your steps in the Discussion section.\n",
    "\n",
    "Be sure to check `Data_Dictionary.md` for the details needed to finish these tasks."
   ]
  },
  {
   "cell_type": "code",
   "execution_count": 38,
   "metadata": {},
   "outputs": [
    {
     "name": "stdout",
     "output_type": "stream",
     "text": [
      "797426\n",
      "797426\n"
     ]
    }
   ],
   "source": [
    "# Investigate \"PRAEGENDE_JUGENDJAHRE\" and engineer two new variables.\n",
    "mainstream_values=[1,3,5,8,10,12,14]\n",
    "avantgarde_values=[2,4,6,7,9,11,13,15]\n",
    "mainstream_col=[]\n",
    "for val in azdias_subset1_one_hot['PRAEGENDE_JUGENDJAHRE'].values:\n",
    "    if val in mainstream_values:\n",
    "        mainstream_col.append(1)\n",
    "    elif val in avantgarde_values:\n",
    "        mainstream_col.append(0)\n",
    "    else:\n",
    "        mainstream_col.append(np.nan)\n",
    "azdias_subset1_one_hot['PRAEGENDE_JUGENDJAHRE_MOVEMENT']=mainstream_col\n",
    "interval=[]\n",
    "interval_col=[[1,2],[3,4],[5,6,7],[8,9],[10,11,12,13],[14,15]] #Coressponding Intervals(40-50,50-60,60-70,70-80,80-90,90-100)\n",
    "for valu in azdias_subset1_one_hot['PRAEGENDE_JUGENDJAHRE'].values:\n",
    "    flag=0\n",
    "    for ind,val in enumerate(interval_col):\n",
    "        if valu in val:\n",
    "            interval.append(ind+1)\n",
    "            flag=1\n",
    "    if flag==0:\n",
    "        interval.append(np.nan)\n",
    "print(len(interval))\n",
    "print(azdias_subset1_one_hot.shape[0])\n",
    "azdias_subset1_one_hot['PRAEGENDE_JUGENDJAHRE_INTERVAL']=interval\n",
    "#792287\n"
   ]
  },
  {
   "cell_type": "code",
   "execution_count": 39,
   "metadata": {},
   "outputs": [],
   "source": [
    "# Investigate \"CAMEO_INTL_2015\" and engineer two new variables.\n",
    "azdias_subset1_one_hot['CAMEO_INTL_2015_STATUS']=[int(val)%10 if not np.isnan(float(val)) else np.nan for val in azdias_subset1_one_hot['CAMEO_INTL_2015'].values]\n"
   ]
  },
  {
   "cell_type": "code",
   "execution_count": 40,
   "metadata": {},
   "outputs": [],
   "source": [
    "azdias_subset1_one_hot['CAMEO_INTL_2015_WEALTH']=[int(val)//10 if not np.isnan(float(val)) else np.nan for val in azdias_subset1_one_hot['CAMEO_INTL_2015'].values]"
   ]
  },
  {
   "cell_type": "markdown",
   "metadata": {},
   "source": [
    "#### Discussion 1.2.2: Engineer Mixed-Type Features\n",
    "\n",
    "* PRAEGENDE_JUGENDJAHRE I have done two steps here one for creating extra binary variable for mainstream. One more for creating extra variable for interval.\n",
    "* CAMEO_INTL_2015 created extra two variable for status and wealth.\n",
    "* LP_LEBENSPHASE_FEIN, LP_LEBENSPHASE_GROB these variables can be mapped from LP_Status(from manual observation), So I removed these two variables\n",
    "* WOHNLAGE values were inconsistent even though it seems ordinal but there some missing values in between\n",
    "* PLZ8_BAUMAX values were analogous to KBA05_BAUMAX as we can derive from them, I dropped it"
   ]
  },
  {
   "cell_type": "markdown",
   "metadata": {},
   "source": [
    "#### Step 1.2.3: Complete Feature Selection\n",
    "\n",
    "In order to finish this step up, you need to make sure that your data frame now only has the columns that you want to keep. To summarize, the dataframe should consist of the following:\n",
    "- All numeric, interval, and ordinal type columns from the original dataset.\n",
    "- Binary categorical features (all numerically-encoded).\n",
    "- Engineered features from other multi-level categorical features and mixed features.\n",
    "\n",
    "Make sure that for any new columns that you have engineered, that you've excluded the original columns from the final dataset. Otherwise, their values will interfere with the analysis later on the project. For example, you should not keep \"PRAEGENDE_JUGENDJAHRE\", since its values won't be useful for the algorithm: only the values derived from it in the engineered features you created should be retained. As a reminder, your data should only be from **the subset with few or no missing values**."
   ]
  },
  {
   "cell_type": "code",
   "execution_count": 41,
   "metadata": {},
   "outputs": [],
   "source": [
    "# If there are other re-engineering tasks you need to perform, make sure you\n",
    "# take care of them here. (Dealing with missing data will come in step 2.1.)\n",
    "azdias_subset1_one_hot = azdias_subset1_one_hot.drop(['PRAEGENDE_JUGENDJAHRE','CAMEO_INTL_2015'],axis=1)\n"
   ]
  },
  {
   "cell_type": "code",
   "execution_count": 42,
   "metadata": {},
   "outputs": [
    {
     "name": "stdout",
     "output_type": "stream",
     "text": [
      "No of columns after removing unwanted columns and using one hot encoding are 192\n"
     ]
    }
   ],
   "source": [
    "# Do whatever you need to in order to ensure that the dataframe only contains\n",
    "# the columns that should be passed to the algorithm functions.\n",
    "azdias_subset1_one_hot = azdias_subset1_one_hot.drop(['LP_LEBENSPHASE_FEIN','LP_LEBENSPHASE_GROB','WOHNLAGE','PLZ8_BAUMAX'],axis=1)\n",
    "print('No of columns after removing unwanted columns and using one hot encoding are',azdias_subset1_one_hot.shape[1])\n"
   ]
  },
  {
   "cell_type": "code",
   "execution_count": 43,
   "metadata": {},
   "outputs": [
    {
     "data": {
      "text/plain": [
       "Index(['ALTERSKATEGORIE_GROB', 'ANREDE_KZ', 'FINANZ_MINIMALIST',\n",
       "       'FINANZ_SPARER', 'FINANZ_VORSORGER', 'FINANZ_ANLEGER',\n",
       "       'FINANZ_UNAUFFAELLIGER', 'FINANZ_HAUSBAUER', 'GREEN_AVANTGARDE',\n",
       "       'HEALTH_TYP',\n",
       "       ...\n",
       "       'CAMEO_DEU_2015_8D', 'CAMEO_DEU_2015_9A', 'CAMEO_DEU_2015_9B',\n",
       "       'CAMEO_DEU_2015_9C', 'CAMEO_DEU_2015_9D', 'CAMEO_DEU_2015_9E',\n",
       "       'PRAEGENDE_JUGENDJAHRE_MOVEMENT', 'PRAEGENDE_JUGENDJAHRE_INTERVAL',\n",
       "       'CAMEO_INTL_2015_STATUS', 'CAMEO_INTL_2015_WEALTH'],\n",
       "      dtype='object', length=192)"
      ]
     },
     "execution_count": 43,
     "metadata": {},
     "output_type": "execute_result"
    }
   ],
   "source": [
    "## Columns left\n",
    "azdias_subset1_one_hot.columns"
   ]
  },
  {
   "cell_type": "markdown",
   "metadata": {},
   "source": [
    "### Step 1.3: Create a Cleaning Function\n",
    "\n",
    "Even though you've finished cleaning up the general population demographics data, it's important to look ahead to the future and realize that you'll need to perform the same cleaning steps on the customer demographics data. In this substep, complete the function below to execute the main feature selection, encoding, and re-engineering steps you performed above. Then, when it comes to looking at the customer data in Step 3, you can just run this function on that DataFrame to get the trimmed dataset in a single step."
   ]
  },
  {
   "cell_type": "code",
   "execution_count": 44,
   "metadata": {},
   "outputs": [],
   "source": [
    "def clean_data(df):\n",
    "    \"\"\"\n",
    "    Perform feature trimming, re-encoding, and engineering for demographics\n",
    "    data\n",
    "    \n",
    "    INPUT: Demographics DataFrame\n",
    "    OUTPUT: Trimmed and cleaned demographics DataFrame\n",
    "    \"\"\"\n",
    "    \n",
    "    # Put in code here to execute all main cleaning steps:\n",
    "    # convert missing value codes into NaNs, ...\n",
    "    \n",
    "    for ind in range(df.shape[1]):\n",
    "        mis_col = feat_info.missing_or_unknown[ind]\n",
    "        col = df.columns[ind]\n",
    "        mis_li = mis_col[1:len(mis_col)-1].split(',')\n",
    "        for val in mis_li:\n",
    "            if val not in ['X','XX']:\n",
    "                if val != '' and int(val) in df[col].value_counts():\n",
    "                    df[col] = df[col].replace(int(val),np.nan)\n",
    "            else:\n",
    "                df[col] = df[col].replace(val,np.nan)\n",
    "                \n",
    "    # remove selected columns and rows, ...\n",
    "    df_drop = df\n",
    "    df_drop = df_drop.drop(azdias_drop_columns,axis=1)\n",
    "    count_nan_row = df_drop.isnull().sum(axis = 1).values\n",
    "    \n",
    "    df_drop_sub1 = df_drop.loc[count_nan_row <= 20]\n",
    "    df_drop_sub2 = df_drop.loc[count_nan_row > 20]\n",
    "    \n",
    "    # select, re-encode, and engineer column values.\n",
    "    df_drop_sub1['OST_WEST_KZ'] = df_drop_sub1['OST_WEST_KZ'].replace('O',0)\n",
    "    df_drop_sub1['OST_WEST_KZ'] = df_drop_sub1['OST_WEST_KZ'].replace('W',1)\n",
    "    df_drop_one_hot = df_drop_sub1\n",
    "    df_drop_one_hot = pd.get_dummies(df_drop_one_hot, columns=multi)\n",
    "    \n",
    "    mainstream_values = [1,3,5,8,10,12,14]\n",
    "    avantgarde_values = [2,4,6,7,9,11,13,15]\n",
    "    \n",
    "    mainstream_col = []\n",
    "    for val in df_drop_one_hot['PRAEGENDE_JUGENDJAHRE'].values:\n",
    "        if val in mainstream_values:\n",
    "            mainstream_col.append(1)\n",
    "        elif val in avantgarde_values:\n",
    "            mainstream_col.append(0)\n",
    "        else:\n",
    "            mainstream_col.append(np.nan)\n",
    "    df_drop_one_hot['PRAEGENDE_JUGENDJAHRE_MOVEMENT']=mainstream_col\n",
    "    interval = []\n",
    "    interval_col = [[1,2],[3,4],[5,6,7],[8,9],[10,11,12,13],[14,15]] #Coressponding Intervals(40-50,50-60,60-70,70-80,80-90,90-100)\n",
    "    for valu in df_drop_one_hot['PRAEGENDE_JUGENDJAHRE'].values:\n",
    "        flag = 0\n",
    "        for ind,val in enumerate(interval_col):\n",
    "            if valu in val:\n",
    "                interval.append(ind+1)\n",
    "                flag = 1\n",
    "        if flag == 0:\n",
    "            interval.append(np.nan)\n",
    "    df_drop_one_hot['PRAEGENDE_JUGENDJAHRE_INTERVAL'] = interval \n",
    "    df_drop_one_hot['CAMEO_INTL_2015_STATUS'] = [int(val)%10 if not np.isnan(float(val)) else np.nan for val in df_drop_one_hot['CAMEO_INTL_2015'].values]\n",
    "    df_drop_one_hot['CAMEO_INTL_2015_WEALTH'] = [int(val)//10 if not np.isnan(float(val)) else np.nan for val in df_drop_one_hot['CAMEO_INTL_2015'].values]\n",
    "    df_drop_one_hot = df_drop_one_hot.drop(['LP_LEBENSPHASE_FEIN','LP_LEBENSPHASE_GROB','WOHNLAGE','PLZ8_BAUMAX'],axis=1)\n",
    "    df_drop_one_hot = df_drop_one_hot.drop(['PRAEGENDE_JUGENDJAHRE','CAMEO_INTL_2015'],axis=1)\n",
    "    # Return the cleaned dataframe.\n",
    "    return df_drop_one_hot"
   ]
  },
  {
   "cell_type": "code",
   "execution_count": 51,
   "metadata": {},
   "outputs": [],
   "source": [
    "# load customer demographic data\n",
    "customer_demographic_data = pd.read_csv(\"Udacity_CUSTOMERS_Subset.csv\", delimiter=delimiter)"
   ]
  },
  {
   "cell_type": "code",
   "execution_count": 52,
   "metadata": {},
   "outputs": [
    {
     "name": "stderr",
     "output_type": "stream",
     "text": [
      "/opt/conda/lib/python3.6/site-packages/ipykernel_launcher.py:33: SettingWithCopyWarning: \n",
      "A value is trying to be set on a copy of a slice from a DataFrame.\n",
      "Try using .loc[row_indexer,col_indexer] = value instead\n",
      "\n",
      "See the caveats in the documentation: http://pandas.pydata.org/pandas-docs/stable/indexing.html#indexing-view-versus-copy\n",
      "/opt/conda/lib/python3.6/site-packages/ipykernel_launcher.py:34: SettingWithCopyWarning: \n",
      "A value is trying to be set on a copy of a slice from a DataFrame.\n",
      "Try using .loc[row_indexer,col_indexer] = value instead\n",
      "\n",
      "See the caveats in the documentation: http://pandas.pydata.org/pandas-docs/stable/indexing.html#indexing-view-versus-copy\n"
     ]
    },
    {
     "name": "stdout",
     "output_type": "stream",
     "text": [
      "Before: (191652, 85)\n",
      "After: (141640, 191)\n"
     ]
    }
   ],
   "source": [
    "#Clean the customer data\n",
    "customer_process_data = clean_data(customer_demographic_data)\n",
    "print('Before:',customer_demographic_data.shape)\n",
    "print('After:',customer_process_data.shape)"
   ]
  },
  {
   "cell_type": "markdown",
   "metadata": {},
   "source": [
    "## Step 2: Feature Transformation\n",
    "\n",
    "### Step 2.1: Apply Feature Scaling\n",
    "\n",
    "Before we apply dimensionality reduction techniques to the data, we need to perform feature scaling so that the principal component vectors are not influenced by the natural differences in scale for features. Starting from this part of the project, you'll want to keep an eye on the [API reference page for sklearn](http://scikit-learn.org/stable/modules/classes.html) to help you navigate to all of the classes and functions that you'll need. In this substep, you'll need to check the following:\n",
    "\n",
    "- sklearn requires that data not have missing values in order for its estimators to work properly. So, before applying the scaler to your data, make sure that you've cleaned the DataFrame of the remaining missing values. This can be as simple as just removing all data points with missing data, or applying an [Imputer](http://scikit-learn.org/stable/modules/generated/sklearn.preprocessing.Imputer.html) to replace all missing values. You might also try a more complicated procedure where you temporarily remove missing values in order to compute the scaling parameters before re-introducing those missing values and applying imputation. Think about how much missing data you have and what possible effects each approach might have on your analysis, and justify your decision in the discussion section below.\n",
    "- For the actual scaling function, a [StandardScaler](http://scikit-learn.org/stable/modules/generated/sklearn.preprocessing.StandardScaler.html) instance is suggested, scaling each feature to mean 0 and standard deviation 1.\n",
    "- For these classes, you can make use of the `.fit_transform()` method to both fit a procedure to the data as well as apply the transformation to the data at the same time. Don't forget to keep the fit sklearn objects handy, since you'll be applying them to the customer demographics data towards the end of the project."
   ]
  },
  {
   "cell_type": "code",
   "execution_count": 47,
   "metadata": {},
   "outputs": [],
   "source": [
    "# If you've not yet cleaned the dataset of all NaN values, then investigate and\n",
    "# do that now.\n",
    "from sklearn import preprocessing\n",
    "imputer = preprocessing.Imputer(missing_values='NaN',strategy='median',axis=0)\n",
    "scaler = preprocessing.StandardScaler()\n",
    "\n"
   ]
  },
  {
   "cell_type": "code",
   "execution_count": 49,
   "metadata": {},
   "outputs": [
    {
     "name": "stderr",
     "output_type": "stream",
     "text": [
      "/opt/conda/lib/python3.6/site-packages/ipykernel_launcher.py:33: SettingWithCopyWarning: \n",
      "A value is trying to be set on a copy of a slice from a DataFrame.\n",
      "Try using .loc[row_indexer,col_indexer] = value instead\n",
      "\n",
      "See the caveats in the documentation: http://pandas.pydata.org/pandas-docs/stable/indexing.html#indexing-view-versus-copy\n",
      "/opt/conda/lib/python3.6/site-packages/ipykernel_launcher.py:34: SettingWithCopyWarning: \n",
      "A value is trying to be set on a copy of a slice from a DataFrame.\n",
      "Try using .loc[row_indexer,col_indexer] = value instead\n",
      "\n",
      "See the caveats in the documentation: http://pandas.pydata.org/pandas-docs/stable/indexing.html#indexing-view-versus-copy\n"
     ]
    },
    {
     "name": "stdout",
     "output_type": "stream",
     "text": [
      "Before: (891221, 85)\n",
      "After: (797426, 192)\n"
     ]
    }
   ],
   "source": [
    "process_data = clean_data(azdias)\n",
    "print('Before:',azdias.shape)\n",
    "print('After:',process_data.shape)"
   ]
  },
  {
   "cell_type": "code",
   "execution_count": 53,
   "metadata": {},
   "outputs": [],
   "source": [
    "imputed_data = imputer.fit_transform(process_data)"
   ]
  },
  {
   "cell_type": "code",
   "execution_count": 55,
   "metadata": {},
   "outputs": [],
   "source": [
    "# Apply feature scaling to the general population demographics data.\n",
    "scaled = scaler.fit_transform(imputed_data) \n",
    "scaled_df = pd.DataFrame(scaled, columns=list(process_data.columns))\n"
   ]
  },
  {
   "cell_type": "markdown",
   "metadata": {},
   "source": [
    "### Discussion 2.1: Apply Feature Scaling\n",
    "\n",
    "* Used the Imputer to remove missing values from the data and I also applied to the StandardScaler to normalized to large values which could affect the model."
   ]
  },
  {
   "cell_type": "markdown",
   "metadata": {},
   "source": [
    "### Step 2.2: Perform Dimensionality Reduction\n",
    "\n",
    "On your scaled data, you are now ready to apply dimensionality reduction techniques.\n",
    "\n",
    "- Use sklearn's [PCA](http://scikit-learn.org/stable/modules/generated/sklearn.decomposition.PCA.html) class to apply principal component analysis on the data, thus finding the vectors of maximal variance in the data. To start, you should not set any parameters (so all components are computed) or set a number of components that is at least half the number of features (so there's enough features to see the general trend in variability).\n",
    "- Check out the ratio of variance explained by each principal component as well as the cumulative variance explained. Try plotting the cumulative or sequential values using matplotlib's [`plot()`](https://matplotlib.org/api/_as_gen/matplotlib.pyplot.plot.html) function. Based on what you find, select a value for the number of transformed features you'll retain for the clustering part of the project.\n",
    "- Once you've made a choice for the number of components to keep, make sure you re-fit a PCA instance to perform the decided-on transformation."
   ]
  },
  {
   "cell_type": "code",
   "execution_count": 56,
   "metadata": {},
   "outputs": [],
   "source": [
    "# Apply PCA to the data.\n",
    "\n",
    "from sklearn.decomposition import PCA\n",
    "pca = PCA(n_components=96)\n",
    "principalComponents = pca.fit_transform(scaled)"
   ]
  },
  {
   "cell_type": "code",
   "execution_count": 64,
   "metadata": {},
   "outputs": [],
   "source": [
    "# Investigate the variance accounted for by each principal component.\n",
    "variances = [value/100 for value in pca.explained_variance_]\n",
    "cummilative_variances = np.cumsum(np.round(variances, decimals=3))\n"
   ]
  },
  {
   "cell_type": "code",
   "execution_count": 65,
   "metadata": {},
   "outputs": [
    {
     "data": {
      "image/png": "[encoded data removed]",
      "text/plain": [
       "<matplotlib.figure.Figure at 0x7f82f7c74390>"
      ]
     },
     "metadata": {},
     "output_type": "display_data"
    }
   ],
   "source": [
    "plt.ylabel('Variance')\n",
    "plt.xlabel('No. of Features')\n",
    "plt.title('PCA Analysis')\n",
    "plt.bar(range(1,26),variances[:25]);"
   ]
  },
  {
   "cell_type": "code",
   "execution_count": 66,
   "metadata": {},
   "outputs": [
    {
     "data": {
      "image/png": "[encoded data removed]",
      "text/plain": [
       "<matplotlib.figure.Figure at 0x7f82f7a68940>"
      ]
     },
     "metadata": {},
     "output_type": "display_data"
    }
   ],
   "source": [
    "plt.ylabel('Percentage Cummilative Variance')\n",
    "plt.xlabel('No of Features')\n",
    "plt.title('PCA Cummilative Analysis')\n",
    "plt.ylim(0,1,0.2)\n",
    "plt.xlim(0,25,1)\n",
    "plt.style.context('seaborn-whitegrid')\n",
    "plt.plot(cummilative_variances,marker='o', color='b');"
   ]
  },
  {
   "cell_type": "code",
   "execution_count": 67,
   "metadata": {},
   "outputs": [],
   "source": [
    "# Re-apply PCA to the data while selecting for number of components to retain.\n",
    "\n",
    "pca = PCA(n_components=10)\n",
    "principalComponents_updated = pca.fit_transform(scaled)\n"
   ]
  },
  {
   "cell_type": "markdown",
   "metadata": {},
   "source": [
    "### Discussion 2.2: Perform Dimensionality Reduction\n",
    "\n",
    "(Double-click this cell and replace this text with your own text, reporting your findings and decisions regarding dimensionality reduction. How many principal components / transformed features are you retaining for the next step of the analysis?)\n",
    "Hi, I have done dimensionality reduction by getting explained ratio of principal components, As i observed 10 components/ eigen values were sufficient to explain more 60% variance in data so I opted that out. I can increase the value to 20 so that I can capture 80% variance of this data but I felt it would be overfitting."
   ]
  },
  {
   "cell_type": "markdown",
   "metadata": {},
   "source": [
    "### Step 2.3: Interpret Principal Components\n",
    "\n",
    "Now that we have our transformed principal components, it's a nice idea to check out the weight of each variable on the first few components to see if they can be interpreted in some fashion.\n",
    "\n",
    "As a reminder, each principal component is a unit vector that points in the direction of highest variance (after accounting for the variance captured by earlier principal components). The further a weight is from zero, the more the principal component is in the direction of the corresponding feature. If two features have large weights of the same sign (both positive or both negative), then increases in one tend expect to be associated with increases in the other. To contrast, features with different signs can be expected to show a negative correlation: increases in one variable should result in a decrease in the other.\n",
    "\n",
    "- To investigate the features, you should map each weight to their corresponding feature name, then sort the features according to weight. The most interesting features for each principal component, then, will be those at the beginning and end of the sorted list. Use the data dictionary document to help you understand these most prominent features, their relationships, and what a positive or negative value on the principal component might indicate.\n",
    "- You should investigate and interpret feature associations from the first three principal components in this substep. To help facilitate this, you should write a function that you can call at any time to print the sorted list of feature weights, for the *i*-th principal component. This might come in handy in the next step of the project, when you interpret the tendencies of the discovered clusters."
   ]
  },
  {
   "cell_type": "code",
   "execution_count": 68,
   "metadata": {},
   "outputs": [],
   "source": [
    "# Map weights for the first principal component to corresponding feature names\n",
    "# and then print the linked values, sorted by weight.\n",
    "# HINT: Try defining a function here or in a new cell that you can reuse in the\n",
    "# other cells.\n",
    "\n",
    "first_comp=pca.components_[0]\n",
    "first_comp_sorted=sorted(first_comp,reverse=True)\n",
    "first_comp_index=sorted(range(len(first_comp)), key=lambda k: first_comp[k])\n"
   ]
  },
  {
   "cell_type": "code",
   "execution_count": 69,
   "metadata": {},
   "outputs": [
    {
     "name": "stdout",
     "output_type": "stream",
     "text": [
      "Positive:  47 MOBI_REGIO 0.196791006527  Negative:  100 LP_STATUS_FEIN_1.0 -0.115255041134\n",
      "Positive:  2 FINANZ_MINIMALIST 0.186737878099  Negative:  40 KBA05_ANTG4 -0.115255041134\n",
      "Positive:  37 KBA05_ANTG1 0.186281370632  Negative:  7 FINANZ_HAUSBAUER -0.127557916758\n",
      "Positive:  51 PLZ8_ANTG1 0.181754946281  Negative:  43 EWDICHTE -0.133265722443\n",
      "Positive:  41 KBA05_GBZ 0.17588966156  Negative:  58 ORTSGR_KLS9 -0.136754937274\n",
      "Positive:  34 KONSUMNAEHE 0.154899114476  Negative:  54 PLZ8_ANTG4 -0.181443361744\n",
      "Positive:  56 PLZ8_GBZ 0.153600377188  Negative:  53 PLZ8_ANTG3 -0.182831662408\n",
      "Positive:  44 INNENSTADT 0.149590544424  Negative:  191 CAMEO_INTL_2015_WEALTH -0.189381728795\n",
      "Positive:  109 LP_STATUS_FEIN_10.0 0.130279457204  Negative:  29 HH_EINKOMMEN_SCORE -0.192486866917\n",
      "Positive:  114 LP_STATUS_GROB_5.0 0.127680374773  Negative:  110 LP_STATUS_GROB_1.0 -0.205557284665\n"
     ]
    }
   ],
   "source": [
    "cols_sorted=scaled_df.columns[first_comp_index]\n",
    "positive_index=first_comp_index[:10]\n",
    "negative_index=first_comp_index[-10:]\n",
    "positive_cols=cols_sorted[:10]\n",
    "negative_cols=cols_sorted[-10:]\n",
    "positive_weights=first_comp_sorted[:10]\n",
    "negative_weights=first_comp_sorted[-10:]\n",
    "for i in range(10):\n",
    "    print('Positive: ',positive_index[i],positive_cols[i],positive_weights[i],' Negative: ',negative_index[i],negative_cols[i],negative_weights[i])"
   ]
  },
  {
   "cell_type": "code",
   "execution_count": 70,
   "metadata": {},
   "outputs": [],
   "source": [
    "def pca_analysis(ind):\n",
    "    first_comp=pca.components_[ind]\n",
    "    first_comp_sorted=sorted(first_comp,reverse=True)\n",
    "    first_comp_index=sorted(range(len(first_comp)), key=lambda k: first_comp[k])\n",
    "    cols_sorted=scaled_df.columns[first_comp_index]\n",
    "    positive_index=first_comp_index[:10]\n",
    "    negative_index=first_comp_index[-10:]\n",
    "    positive_cols=cols_sorted[:10]\n",
    "    negative_cols=cols_sorted[-10:]\n",
    "    positive_weights=first_comp_sorted[:10]\n",
    "    negative_weights=first_comp_sorted[-10:]\n",
    "    for i in range(10):\n",
    "        print('Positive: ',positive_index[i],positive_cols[i],positive_weights[i],' Negative: ',negative_index[i],negative_cols[i],negative_weights[i])"
   ]
  },
  {
   "cell_type": "code",
   "execution_count": 71,
   "metadata": {},
   "outputs": [
    {
     "name": "stdout",
     "output_type": "stream",
     "text": [
      "Positive:  189 PRAEGENDE_JUGENDJAHRE_INTERVAL 0.233051091461  Negative:  100 LP_STATUS_FEIN_1.0 -0.162936441172\n",
      "Positive:  3 FINANZ_SPARER 0.218909851726  Negative:  70 FINANZTYP_5 -0.164758168677\n",
      "Positive:  6 FINANZ_UNAUFFAELLIGER 0.200481588728  Negative:  61 CJT_GESAMTTYP_2.0 -0.168024582665\n",
      "Positive:  13 SEMIO_REL 0.180363043227  Negative:  30 W_KEIT_KIND_HH -0.203109812816\n",
      "Positive:  24 SEMIO_TRADV 0.163953876241  Negative:  10 RETOURTYP_BK_S -0.204710975337\n",
      "Positive:  23 SEMIO_PFLICHT 0.155974505191  Negative:  16 SEMIO_LUST -0.208182522067\n",
      "Positive:  5 FINANZ_ANLEGER 0.128202031022  Negative:  17 SEMIO_ERL -0.213654016719\n",
      "Positive:  19 SEMIO_RAT 0.108201674772  Negative:  124 ZABEOTYP_3 -0.215187477501\n",
      "Positive:  18 SEMIO_KULT 0.0979607612455  Negative:  4 FINANZ_VORSORGER -0.226403178145\n",
      "Positive:  48 ONLINE_AFFINITAET 0.097270765373  Negative:  0 ALTERSKATEGORIE_GROB -0.238200908576\n"
     ]
    }
   ],
   "source": [
    "# Map weights for the second principal component to corresponding feature names\n",
    "# and then print the linked values, sorted by weight.\n",
    "pca_analysis(1)\n"
   ]
  },
  {
   "cell_type": "code",
   "execution_count": 72,
   "metadata": {},
   "outputs": [
    {
     "name": "stdout",
     "output_type": "stream",
     "text": [
      "Positive:  1 ANREDE_KZ 0.318870282311  Negative:  14 SEMIO_MAT -0.0794386762274\n",
      "Positive:  22 SEMIO_KAEM 0.260589353292  Negative:  13 SEMIO_REL -0.0929764734395\n",
      "Positive:  21 SEMIO_DOM 0.25696476866  Negative:  122 ZABEOTYP_1 -0.100367003534\n",
      "Positive:  20 SEMIO_KRIT 0.251489806208  Negative:  118 SHOPPER_TYP_0.0 -0.153350239906\n",
      "Positive:  17 SEMIO_ERL 0.135147008615  Negative:  2 FINANZ_MINIMALIST -0.154657351586\n",
      "Positive:  19 SEMIO_RAT 0.12892963879  Negative:  70 FINANZTYP_5 -0.208004288942\n",
      "Positive:  5 FINANZ_ANLEGER 0.12263780999  Negative:  18 SEMIO_KULT -0.266858516115\n",
      "Positive:  66 FINANZTYP_1 0.116559839531  Negative:  11 SEMIO_SOZ -0.283786728505\n",
      "Positive:  120 SHOPPER_TYP_2.0 0.11308357346  Negative:  12 SEMIO_FAM -0.315213518658\n",
      "Positive:  101 LP_STATUS_FEIN_2.0 0.0892705050153  Negative:  15 SEMIO_VERT -0.345050358962\n"
     ]
    }
   ],
   "source": [
    "# Map weights for the third principal component to corresponding feature names\n",
    "# and then print the linked values, sorted by weight.\n",
    "pca_analysis(2)"
   ]
  },
  {
   "cell_type": "code",
   "execution_count": 73,
   "metadata": {},
   "outputs": [
    {
     "data": {
      "image/png": "[encoded data removed]",
      "text/plain": [
       "<matplotlib.figure.Figure at 0x7f82f7b1fd30>"
      ]
     },
     "metadata": {},
     "output_type": "display_data"
    }
   ],
   "source": [
    "# Dimension indexing\n",
    "dimensions = dimensions = ['Dimension {}'.format(i) for i in range(1,len(pca.components_)+1)]\n",
    "\n",
    "# PCA components\n",
    "components = pd.DataFrame(np.round([pca.components_[ind][:10] for ind in range(len(pca.components_))], 4), columns = scaled_df.columns[:10])\n",
    "components.index = dimensions\n",
    "\n",
    "# PCA explained variance\n",
    "ratios = pca.explained_variance_ratio_.reshape(len(pca.components_), 1)\n",
    "variance_ratios = pd.DataFrame(np.round(ratios, 4), columns = ['Explained Variance'])\n",
    "variance_ratios.index = dimensions\n",
    "\n",
    "# Create a bar plot visualization\n",
    "fig, ax = plt.subplots(figsize = (20,8))\n",
    "\n",
    "# Plot the feature weights as a function of the components\n",
    "components.plot(ax = ax, kind = 'bar');\n",
    "ax.set_ylabel(\"Feature Weights\")\n",
    "ax.set_xticklabels(dimensions, rotation=0)\n",
    "\n",
    "\n",
    "# Display the explained variance ratios\n",
    "for i, ev in enumerate(pca.explained_variance_ratio_):\n",
    "    ax.text(i-0.40, ax.get_ylim()[1] + 0.05, \"Explained Variance\\n          %.4f\"%(ev))"
   ]
  },
  {
   "cell_type": "markdown",
   "metadata": {},
   "source": [
    "### Discussion 2.3: Interpret Principal Components\n",
    "\n",
    "(Double-click this cell and replace this text with your own text, reporting your observations from detailed investigation of the first few principal components generated. Can we interpret positive and negative values from them in a meaningful way?)\n",
    "\n",
    "Yes, we can interpret positive and negative values from principal component, here we should concentrate on largest positive values as well as those that have the largest negative values, Two features with opposite signs are negatively associated: when one feature moves in a direction, the other feature will be expected to move in the opposite direction\n",
    "\n",
    "The maximum magnitude of weight indicates that is the feature which is driving the principal component or latent eighen vector.\n",
    "\n",
    "Latent Variables are the hidden variables which we can interpret, here the latent variables which mostly driving the importance are 1) population density -- got by interpreting buildings with family capacity. 2) Affluence 3)Personality 4) Demographics like age and gender.\n",
    "\n",
    "1) PLZ8_ANTG3 and PLZ_ANTG4, which indicate general prevalence of buildings with larger family capacity.PLZ_ANTG1 and KBA05_ANTG1, which indicate the prevalence of buildings with smaller family capacity. This suggests that this feature says something about Population volume.\n",
    "\n",
    "2) FINANZ_* variables, HH_EINKOMMEN_SCORE, REGIOTYP, ARBEIT, RELAT_AB these variables with highest magnitude of weights, I interpreted as this variables are trying to describe Latent variable Affluence.\n",
    "\n",
    "MOBI_REGIO is tangentially related, with smaller values indicating higher movement rates. These higher movement rates appear to correspond with People in higher-density communities or with lower affluence.\n",
    "\n",
    "SEMIO_ variables weights are saying about outlook which is corelated with the cost of living of people by which I derived the latent variable Personality and outlook.\n",
    "\n",
    "ALTERSKATEGORIE_GROB variables weights engineered from PRAEGENDE_JUGENDJAHRE and CAMEO_INTL_2015 weights are of higher magnitude which helped me to interpret latent variable which include demographics Age associations\n",
    "\n",
    "ANREDE_KZ variable weights are of higher magnitude which is negative influnences the factor of Gender in demographics.\n",
    "Note: Here the magnitude matters more irrespective of sign, Sign only helps in interpreting the correlation either positive/negative."
   ]
  },
  {
   "cell_type": "markdown",
   "metadata": {},
   "source": [
    "## Step 3: Clustering\n",
    "\n",
    "### Step 3.1: Apply Clustering to General Population\n",
    "\n",
    "You've assessed and cleaned the demographics data, then scaled and transformed them. Now, it's time to see how the data clusters in the principal components space. In this substep, you will apply k-means clustering to the dataset and use the average within-cluster distances from each point to their assigned cluster's centroid to decide on a number of clusters to keep.\n",
    "\n",
    "- Use sklearn's [KMeans](http://scikit-learn.org/stable/modules/generated/sklearn.cluster.KMeans.html#sklearn.cluster.KMeans) class to perform k-means clustering on the PCA-transformed data.\n",
    "- Then, compute the average difference from each point to its assigned cluster's center. **Hint**: The KMeans object's `.score()` method might be useful here, but note that in sklearn, scores tend to be defined so that larger is better. Try applying it to a small, toy dataset, or use an internet search to help your understanding.\n",
    "- Perform the above two steps for a number of different cluster counts. You can then see how the average distance decreases with an increasing number of clusters. However, each additional cluster provides a smaller net benefit. Use this fact to select a final number of clusters in which to group the data. **Warning**: because of the large size of the dataset, it can take a long time for the algorithm to resolve. The more clusters to fit, the longer the algorithm will take. You should test for cluster counts through at least 10 clusters to get the full picture, but you shouldn't need to test for a number of clusters above about 30.\n",
    "- Once you've selected a final number of clusters to use, re-fit a KMeans instance to perform the clustering operation. Make sure that you also obtain the cluster assignments for the general demographics data, since you'll be using them in the final Step 3.3."
   ]
  },
  {
   "cell_type": "code",
   "execution_count": 74,
   "metadata": {},
   "outputs": [
    {
     "name": "stdout",
     "output_type": "stream",
     "text": [
      "For Cluster 2 Processing is going on\n",
      "For Cluster 3 Processing is going on\n",
      "For Cluster 4 Processing is going on\n",
      "For Cluster 5 Processing is going on\n",
      "For Cluster 6 Processing is going on\n",
      "For Cluster 7 Processing is going on\n",
      "For Cluster 8 Processing is going on\n",
      "For Cluster 9 Processing is going on\n",
      "For Cluster 10 Processing is going on\n",
      "For Cluster 11 Processing is going on\n",
      "For Cluster 12 Processing is going on\n",
      "For Cluster 13 Processing is going on\n",
      "For Cluster 14 Processing is going on\n",
      "For Cluster 15 Processing is going on\n"
     ]
    }
   ],
   "source": [
    "from sklearn.cluster import KMeans\n",
    "kmeans_avg = []\n",
    "kmeans_res_li = []\n",
    "# Over a number of different cluster counts...\n",
    "for ind in range(2,16):\n",
    "    # run k-means clustering on the data and...\n",
    "    print('For Cluster',ind,'Processing is going on')\n",
    "    kmeans = KMeans(n_clusters=ind, random_state=0)\n",
    "    res_kmeans = kmeans.fit_predict(principalComponents_updated)\n",
    "    kmeans_res_li.append(res_kmeans)\n",
    "    # compute the average within-cluster distances.\n",
    "    kmeans_avg.append((kmeans.score(principalComponents_updated)/len(principalComponents_updated))*-1)"
   ]
  },
  {
   "cell_type": "code",
   "execution_count": 76,
   "metadata": {},
   "outputs": [
    {
     "data": {
      "image/png": "[encoded data removed]",
      "text/plain": [
       "<matplotlib.figure.Figure at 0x7f82f797b710>"
      ]
     },
     "metadata": {},
     "output_type": "display_data"
    }
   ],
   "source": [
    "# Investigate the change in within-cluster distance across number of clusters.\n",
    "# HINT: Use matplotlib's plot function to visualize this relationship.\n",
    "\n",
    "plt.ylabel('Cluster Score')\n",
    "plt.xlabel('No of clusters')\n",
    "plt.ylim(0,50,5)\n",
    "x=[0,2,4,6,8,10,12,14]\n",
    "my_xticks=[2,4,6,8,10,12,14,16]\n",
    "plt.xticks(x, my_xticks)\n",
    "plt.style.context('seaborn-whitegrid')\n",
    "plt.plot(kmeans_avg,marker='o', color='b');"
   ]
  },
  {
   "cell_type": "code",
   "execution_count": 77,
   "metadata": {},
   "outputs": [],
   "source": [
    "# Re-fit the k-means model with the selected number of clusters and obtain\n",
    "# cluster predictions for the general population demographics data.\n",
    "\n",
    "kmeans=KMeans(n_clusters=11, random_state=0)\n",
    "res_kmeans_11=kmeans.fit_predict(principalComponents_updated)"
   ]
  },
  {
   "cell_type": "markdown",
   "metadata": {},
   "source": [
    "### Discussion 3.1: Apply Clustering to General Population\n",
    "\n",
    "(Double-click this cell and replace this text with your own text, reporting your findings and decisions regarding clustering. Into how many clusters have you decided to segment the population?)\n",
    "\n",
    "As I have observed in the above picture that after 11 clusters, score is not changing/stagnant/converged significantly so I decided to choose 11.\n",
    "\n",
    "I can try with 20 clusters to confirm whether this is local minima, but it is taking too much time. I think 11 should be fine"
   ]
  },
  {
   "cell_type": "markdown",
   "metadata": {},
   "source": [
    "### Step 3.2: Apply All Steps to the Customer Data\n",
    "\n",
    "Now that you have clusters and cluster centers for the general population, it's time to see how the customer data maps on to those clusters. Take care to not confuse this for re-fitting all of the models to the customer data. Instead, you're going to use the fits from the general population to clean, transform, and cluster the customer data. In the last step of the project, you will interpret how the general population fits apply to the customer data.\n",
    "\n",
    "- Don't forget when loading in the customers data, that it is semicolon (`;`) delimited.\n",
    "- Apply the same feature wrangling, selection, and engineering steps to the customer demographics using the `clean_data()` function you created earlier. (You can assume that the customer demographics data has similar meaning behind missing data patterns as the general demographics data.)\n",
    "- Use the sklearn objects from the general demographics data, and apply their transformations to the customers data. That is, you should not be using a `.fit()` or `.fit_transform()` method to re-fit the old objects, nor should you be creating new sklearn objects! Carry the data through the feature scaling, PCA, and clustering steps, obtaining cluster assignments for all of the data in the customer demographics data."
   ]
  },
  {
   "cell_type": "code",
   "execution_count": 78,
   "metadata": {},
   "outputs": [],
   "source": [
    "# Load in the customer demographics data.\n",
    "customers = pd.read_csv('Udacity_CUSTOMERS_Subset.csv',delimiter=';')\n"
   ]
  },
  {
   "cell_type": "code",
   "execution_count": 79,
   "metadata": {},
   "outputs": [
    {
     "data": {
      "text/plain": [
       "(191652, 85)"
      ]
     },
     "execution_count": 79,
     "metadata": {},
     "output_type": "execute_result"
    }
   ],
   "source": [
    "# Get the shape\n",
    "customers.shape"
   ]
  },
  {
   "cell_type": "code",
   "execution_count": 80,
   "metadata": {},
   "outputs": [
    {
     "name": "stderr",
     "output_type": "stream",
     "text": [
      "/opt/conda/lib/python3.6/site-packages/ipykernel_launcher.py:33: SettingWithCopyWarning: \n",
      "A value is trying to be set on a copy of a slice from a DataFrame.\n",
      "Try using .loc[row_indexer,col_indexer] = value instead\n",
      "\n",
      "See the caveats in the documentation: http://pandas.pydata.org/pandas-docs/stable/indexing.html#indexing-view-versus-copy\n",
      "/opt/conda/lib/python3.6/site-packages/ipykernel_launcher.py:34: SettingWithCopyWarning: \n",
      "A value is trying to be set on a copy of a slice from a DataFrame.\n",
      "Try using .loc[row_indexer,col_indexer] = value instead\n",
      "\n",
      "See the caveats in the documentation: http://pandas.pydata.org/pandas-docs/stable/indexing.html#indexing-view-versus-copy\n"
     ]
    }
   ],
   "source": [
    "# Apply preprocessing, feature transformation, and clustering from the general\n",
    "# demographics onto the customer data, obtaining cluster predictions for the\n",
    "# customer demographics data.\n",
    "process_customer_data = clean_data(customers)\n",
    "\n"
   ]
  },
  {
   "cell_type": "code",
   "execution_count": 82,
   "metadata": {},
   "outputs": [],
   "source": [
    "process_customer_data['GEBAEUDETYP_5.0'] = [0 for ind in range(len(process_customer_data))]"
   ]
  },
  {
   "cell_type": "code",
   "execution_count": 83,
   "metadata": {},
   "outputs": [
    {
     "data": {
      "text/plain": [
       "(141640, 192)"
      ]
     },
     "execution_count": 83,
     "metadata": {},
     "output_type": "execute_result"
    }
   ],
   "source": [
    "process_customer_data.shape"
   ]
  },
  {
   "cell_type": "code",
   "execution_count": 85,
   "metadata": {},
   "outputs": [],
   "source": [
    "cust_imputer_df = imputer.transform(process_customer_data)\n",
    "cust_scaled = scaler.transform(cust_imputer_df)\n",
    "cust_scaled_df = pd.DataFrame(cust_scaled, columns=list(process_customer_data.columns))"
   ]
  },
  {
   "cell_type": "code",
   "execution_count": 86,
   "metadata": {},
   "outputs": [],
   "source": [
    "pca_customers = pca.transform(cust_scaled)"
   ]
  },
  {
   "cell_type": "code",
   "execution_count": 87,
   "metadata": {},
   "outputs": [],
   "source": [
    "kmeans_customers_data = kmeans.predict(pca_customers)"
   ]
  },
  {
   "cell_type": "markdown",
   "metadata": {},
   "source": [
    "### Step 3.3: Compare Customer Data to Demographics Data\n",
    "\n",
    "At this point, you have clustered data based on demographics of the general population of Germany, and seen how the customer data for a mail-order sales company maps onto those demographic clusters. In this final substep, you will compare the two cluster distributions to see where the strongest customer base for the company is.\n",
    "\n",
    "Consider the proportion of persons in each cluster for the general population, and the proportions for the customers. If we think the company's customer base to be universal, then the cluster assignment proportions should be fairly similar between the two. If there are only particular segments of the population that are interested in the company's products, then we should see a mismatch from one to the other. If there is a higher proportion of persons in a cluster for the customer data compared to the general population (e.g. 5% of persons are assigned to a cluster for the general population, but 15% of the customer data is closest to that cluster's centroid) then that suggests the people in that cluster to be a target audience for the company. On the other hand, the proportion of the data in a cluster being larger in the general population than the customer data (e.g. only 2% of customers closest to a population centroid that captures 6% of the data) suggests that group of persons to be outside of the target demographics.\n",
    "\n",
    "Take a look at the following points in this step:\n",
    "\n",
    "- Compute the proportion of data points in each cluster for the general population and the customer data. Visualizations will be useful here: both for the individual dataset proportions, but also to visualize the ratios in cluster representation between groups. Seaborn's [`countplot()`](https://seaborn.pydata.org/generated/seaborn.countplot.html) or [`barplot()`](https://seaborn.pydata.org/generated/seaborn.barplot.html) function could be handy.\n",
    "  - Recall the analysis you performed in step 1.1.3 of the project, where you separated out certain data points from the dataset if they had more than a specified threshold of missing values. If you found that this group was qualitatively different from the main bulk of the data, you should treat this as an additional data cluster in this analysis. Make sure that you account for the number of data points in this subset, for both the general population and customer datasets, when making your computations!\n",
    "- Which cluster or clusters are overrepresented in the customer dataset compared to the general population? Select at least one such cluster and infer what kind of people might be represented by that cluster. Use the principal component interpretations from step 2.3 or look at additional components to help you make this inference. Alternatively, you can use the `.inverse_transform()` method of the PCA and StandardScaler objects to transform centroids back to the original data space and interpret the retrieved values directly.\n",
    "- Perform a similar investigation for the underrepresented clusters. Which cluster or clusters are underrepresented in the customer dataset compared to the general population, and what kinds of people are typified by these clusters?"
   ]
  },
  {
   "cell_type": "code",
   "execution_count": 88,
   "metadata": {},
   "outputs": [],
   "source": [
    "# Compare the proportion of data in each cluster for the customer data to the\n",
    "# proportion of data in each cluster for the general population.\n",
    "\n",
    "demo_bin = np.bincount(res_kmeans_11)\n",
    "demo_dict = {}\n",
    "for ind in range(11):\n",
    "    demo_dict[ind] = demo_bin[ind] * 100 / len(azdias)\n",
    "demo_dict[-1] = (len(azdias) - len(process_data)) * 100 / len(azdias)"
   ]
  },
  {
   "cell_type": "code",
   "execution_count": 90,
   "metadata": {},
   "outputs": [],
   "source": [
    "cust_bin = np.bincount(kmeans_customers_data)\n",
    "cust_dict={}\n",
    "for ind in range(11):\n",
    "    cust_dict[ind] = cust_bin[ind]*100/len(customers)\n",
    "cust_dict[-1] = (len(customers) - len(process_customer_data)) * 100 / len(customers)"
   ]
  },
  {
   "cell_type": "code",
   "execution_count": 93,
   "metadata": {},
   "outputs": [
    {
     "data": {
      "image/png": "[encoded data removed]",
      "text/plain": [
       "<matplotlib.figure.Figure at 0x7f82f7b437f0>"
      ]
     },
     "metadata": {},
     "output_type": "display_data"
    }
   ],
   "source": [
    "plt.rcParams[\"figure.figsize\"] = (20,8)\n",
    "plt.subplot(1,2,1)\n",
    "plt.ylabel('General Population Percentage')\n",
    "plt.xlabel('Cluster')\n",
    "plt.xticks(np.arange(-1,11))\n",
    "plt.yticks(np.arange(0,12,1))\n",
    "\n",
    "plt.title('Demographics')\n",
    "plt.bar(list(demo_dict.keys()),list(demo_dict.values()));\n",
    "plt.subplot(1,2,2)\n",
    "plt.ylabel('General Population Percentage')\n",
    "plt.xlabel('Cluster')\n",
    "plt.title('Customers')\n",
    "plt.yticks(np.arange(0,30,2))\n",
    "plt.xticks(np.arange(-1,11))\n",
    "\n",
    "plt.bar(list(cust_dict.keys()),list(cust_dict.values()));"
   ]
  },
  {
   "cell_type": "code",
   "execution_count": 94,
   "metadata": {},
   "outputs": [
    {
     "data": {
      "text/plain": [
       "array([ 2.54860773,  4.38415132, -1.70666444,  0.44214304,  0.3215177 ,\n",
       "        0.13944789,  0.10015754,  0.18429987, -0.03854827, -0.18667267])"
      ]
     },
     "execution_count": 94,
     "metadata": {},
     "output_type": "execute_result"
    }
   ],
   "source": [
    "# What kinds of people are part of a cluster that is overrepresented in the\n",
    "# customer data compared to the general population?\n",
    "\n",
    "over_represented=kmeans.cluster_centers_[0]\n",
    "over_represented"
   ]
  },
  {
   "cell_type": "code",
   "execution_count": 95,
   "metadata": {},
   "outputs": [
    {
     "name": "stdout",
     "output_type": "stream",
     "text": [
      "Positive:  47 MOBI_REGIO 0.196791006527  Negative:  100 LP_STATUS_FEIN_1.0 -0.115255041134\n",
      "Positive:  2 FINANZ_MINIMALIST 0.186737878099  Negative:  40 KBA05_ANTG4 -0.115255041134\n",
      "Positive:  37 KBA05_ANTG1 0.186281370632  Negative:  7 FINANZ_HAUSBAUER -0.127557916758\n",
      "Positive:  51 PLZ8_ANTG1 0.181754946281  Negative:  43 EWDICHTE -0.133265722443\n",
      "Positive:  41 KBA05_GBZ 0.17588966156  Negative:  58 ORTSGR_KLS9 -0.136754937274\n",
      "Positive:  34 KONSUMNAEHE 0.154899114476  Negative:  54 PLZ8_ANTG4 -0.181443361744\n",
      "Positive:  56 PLZ8_GBZ 0.153600377188  Negative:  53 PLZ8_ANTG3 -0.182831662408\n",
      "Positive:  44 INNENSTADT 0.149590544424  Negative:  191 CAMEO_INTL_2015_WEALTH -0.189381728795\n",
      "Positive:  109 LP_STATUS_FEIN_10.0 0.130279457204  Negative:  29 HH_EINKOMMEN_SCORE -0.192486866917\n",
      "Positive:  114 LP_STATUS_GROB_5.0 0.127680374773  Negative:  110 LP_STATUS_GROB_1.0 -0.205557284665\n"
     ]
    }
   ],
   "source": [
    "pca_analysis(0)"
   ]
  },
  {
   "cell_type": "code",
   "execution_count": 96,
   "metadata": {},
   "outputs": [
    {
     "data": {
      "text/plain": [
       "array([ 3.84386079,  4.79627528,  2.5123532 ,  0.21840528,  0.11269278,\n",
       "        2.81292394])"
      ]
     },
     "execution_count": 96,
     "metadata": {},
     "output_type": "execute_result"
    }
   ],
   "source": [
    "# Optional for my cross checking\n",
    "pca_inverse=pca.inverse_transform(pca_customers)\n",
    "scaler_inverse=scaler.inverse_transform(pca_inverse[0])\n",
    "scaler_inverse[[47,2,37,100,40,7]]"
   ]
  },
  {
   "cell_type": "code",
   "execution_count": 97,
   "metadata": {},
   "outputs": [],
   "source": [
    "# Note \n",
    "\n",
    "# Here I observe that FINANZ_MINIMALIST which is Financial **typology** and I observed in the both the data there is \n",
    "# clear difference between count of people. Most of the data given consist from segment high.\n",
    "\n"
   ]
  },
  {
   "cell_type": "code",
   "execution_count": 98,
   "metadata": {},
   "outputs": [
    {
     "name": "stdout",
     "output_type": "stream",
     "text": [
      "Positive:  1 ANREDE_KZ 0.318870282311  Negative:  14 SEMIO_MAT -0.0794386762274\n",
      "Positive:  22 SEMIO_KAEM 0.260589353292  Negative:  13 SEMIO_REL -0.0929764734395\n",
      "Positive:  21 SEMIO_DOM 0.25696476866  Negative:  122 ZABEOTYP_1 -0.100367003534\n",
      "Positive:  20 SEMIO_KRIT 0.251489806208  Negative:  118 SHOPPER_TYP_0.0 -0.153350239906\n",
      "Positive:  17 SEMIO_ERL 0.135147008615  Negative:  2 FINANZ_MINIMALIST -0.154657351586\n",
      "Positive:  19 SEMIO_RAT 0.12892963879  Negative:  70 FINANZTYP_5 -0.208004288942\n",
      "Positive:  5 FINANZ_ANLEGER 0.12263780999  Negative:  18 SEMIO_KULT -0.266858516115\n",
      "Positive:  66 FINANZTYP_1 0.116559839531  Negative:  11 SEMIO_SOZ -0.283786728505\n",
      "Positive:  120 SHOPPER_TYP_2.0 0.11308357346  Negative:  12 SEMIO_FAM -0.315213518658\n",
      "Positive:  101 LP_STATUS_FEIN_2.0 0.0892705050153  Negative:  15 SEMIO_VERT -0.345050358962\n"
     ]
    }
   ],
   "source": [
    "pca_analysis(2)"
   ]
  },
  {
   "cell_type": "code",
   "execution_count": 99,
   "metadata": {},
   "outputs": [
    {
     "data": {
      "text/plain": [
       "array([ 0.91945816,  1.90439072,  2.31817184,  3.07295257,  3.29304565,\n",
       "        0.4599039 ])"
      ]
     },
     "execution_count": 99,
     "metadata": {},
     "output_type": "execute_result"
    }
   ],
   "source": [
    "# Optional for my cross checking\n",
    "scaler_inverse[[1,22,21,14,13,122]]"
   ]
  },
  {
   "cell_type": "code",
   "execution_count": 100,
   "metadata": {},
   "outputs": [],
   "source": [
    "# Note\n",
    "\n",
    "# Here in this segment is about Personality typology as I observed there is clear change in distibution of the data **affinity**\n",
    "\n"
   ]
  },
  {
   "cell_type": "code",
   "execution_count": 101,
   "metadata": {},
   "outputs": [
    {
     "name": "stdout",
     "output_type": "stream",
     "text": [
      "Positive:  188 PRAEGENDE_JUGENDJAHRE_MOVEMENT 0.294188506211  Negative:  135 CAMEO_DEUG_2015_1 -0.132929797099\n",
      "Positive:  113 LP_STATUS_GROB_4.0 0.244279685773  Negative:  99 LP_FAMILIE_GROB_5.0 -0.144928246674\n",
      "Positive:  108 LP_STATUS_FEIN_9.0 0.244279685773  Negative:  48 ONLINE_AFFINITAET -0.144928246674\n",
      "Positive:  42 BALLRAUM 0.210833992192  Negative:  21 SEMIO_DOM -0.156304314841\n",
      "Positive:  44 INNENSTADT 0.206133253144  Negative:  27 ANZ_PERSONEN -0.162012554002\n",
      "Positive:  46 KKK 0.137728252529  Negative:  58 ORTSGR_KLS9 -0.171627252734\n",
      "Positive:  29 HH_EINKOMMEN_SCORE 0.126087804603  Negative:  43 EWDICHTE -0.174121711811\n",
      "Positive:  84 LP_FAMILIE_FEIN_1.0 0.120092007335  Negative:  109 LP_STATUS_FEIN_10.0 -0.184676051265\n",
      "Positive:  95 LP_FAMILIE_GROB_1.0 0.116093009925  Negative:  114 LP_STATUS_GROB_5.0 -0.195986040972\n",
      "Positive:  103 LP_STATUS_FEIN_4.0 0.115484197278  Negative:  8 GREEN_AVANTGARDE -0.294188506211\n"
     ]
    }
   ],
   "source": [
    "pca_analysis(3)"
   ]
  },
  {
   "cell_type": "code",
   "execution_count": 104,
   "metadata": {},
   "outputs": [
    {
     "data": {
      "text/plain": [
       "array([ 0.4424803 ,  0.18771689,  0.20022244, -0.04679462,  1.90439072,\n",
       "        2.34115112])"
      ]
     },
     "execution_count": 104,
     "metadata": {},
     "output_type": "execute_result"
    }
   ],
   "source": [
    "# Optional for my cross checking\n",
    "scaler_inverse[[118,113,108,99,22,48]]\n",
    "\n",
    "# Note\n",
    "\n",
    "# Here also affinity is what differentiating that is online affinity described by variable ONLINE_AFFINITAET\n"
   ]
  },
  {
   "cell_type": "code",
   "execution_count": null,
   "metadata": {},
   "outputs": [],
   "source": []
  },
  {
   "cell_type": "code",
   "execution_count": 105,
   "metadata": {},
   "outputs": [
    {
     "data": {
      "text/plain": [
       "array([-2.99817153,  2.49135996, -2.47523319, -1.83685693, -0.27249057,\n",
       "        0.45541143,  0.18708549, -0.02139969,  0.11560196, -0.12640032])"
      ]
     },
     "execution_count": 105,
     "metadata": {},
     "output_type": "execute_result"
    }
   ],
   "source": [
    "# What kinds of people are part of a cluster that is underrepresented in the\n",
    "# customer data compared to the general population?\n",
    "\n",
    "under_represented=kmeans.cluster_centers_[1]\n",
    "under_represented\n"
   ]
  },
  {
   "cell_type": "code",
   "execution_count": 106,
   "metadata": {},
   "outputs": [
    {
     "name": "stdout",
     "output_type": "stream",
     "text": [
      "Positive:  47 MOBI_REGIO 0.196791006527  Negative:  100 LP_STATUS_FEIN_1.0 -0.115255041134\n",
      "Positive:  2 FINANZ_MINIMALIST 0.186737878099  Negative:  40 KBA05_ANTG4 -0.115255041134\n",
      "Positive:  37 KBA05_ANTG1 0.186281370632  Negative:  7 FINANZ_HAUSBAUER -0.127557916758\n",
      "Positive:  51 PLZ8_ANTG1 0.181754946281  Negative:  43 EWDICHTE -0.133265722443\n",
      "Positive:  41 KBA05_GBZ 0.17588966156  Negative:  58 ORTSGR_KLS9 -0.136754937274\n",
      "Positive:  34 KONSUMNAEHE 0.154899114476  Negative:  54 PLZ8_ANTG4 -0.181443361744\n",
      "Positive:  56 PLZ8_GBZ 0.153600377188  Negative:  53 PLZ8_ANTG3 -0.182831662408\n",
      "Positive:  44 INNENSTADT 0.149590544424  Negative:  191 CAMEO_INTL_2015_WEALTH -0.189381728795\n",
      "Positive:  109 LP_STATUS_FEIN_10.0 0.130279457204  Negative:  29 HH_EINKOMMEN_SCORE -0.192486866917\n",
      "Positive:  114 LP_STATUS_GROB_5.0 0.127680374773  Negative:  110 LP_STATUS_GROB_1.0 -0.205557284665\n"
     ]
    }
   ],
   "source": [
    "pca_analysis(0)"
   ]
  },
  {
   "cell_type": "code",
   "execution_count": 107,
   "metadata": {},
   "outputs": [
    {
     "data": {
      "text/plain": [
       "array([ 3.84386079,  4.79627528,  2.5123532 ,  0.21840528,  0.11269278,\n",
       "        2.81292394])"
      ]
     },
     "execution_count": 107,
     "metadata": {},
     "output_type": "execute_result"
    }
   ],
   "source": [
    "# Optional for my cross checking\n",
    "scaler_inverse[[47,2,37,100,40,7]]"
   ]
  },
  {
   "cell_type": "code",
   "execution_count": 108,
   "metadata": {},
   "outputs": [
    {
     "name": "stdout",
     "output_type": "stream",
     "text": [
      "Positive:  189 PRAEGENDE_JUGENDJAHRE_INTERVAL 0.233051091461  Negative:  100 LP_STATUS_FEIN_1.0 -0.162936441172\n",
      "Positive:  3 FINANZ_SPARER 0.218909851726  Negative:  70 FINANZTYP_5 -0.164758168677\n",
      "Positive:  6 FINANZ_UNAUFFAELLIGER 0.200481588728  Negative:  61 CJT_GESAMTTYP_2.0 -0.168024582665\n",
      "Positive:  13 SEMIO_REL 0.180363043227  Negative:  30 W_KEIT_KIND_HH -0.203109812816\n",
      "Positive:  24 SEMIO_TRADV 0.163953876241  Negative:  10 RETOURTYP_BK_S -0.204710975337\n",
      "Positive:  23 SEMIO_PFLICHT 0.155974505191  Negative:  16 SEMIO_LUST -0.208182522067\n",
      "Positive:  5 FINANZ_ANLEGER 0.128202031022  Negative:  17 SEMIO_ERL -0.213654016719\n",
      "Positive:  19 SEMIO_RAT 0.108201674772  Negative:  124 ZABEOTYP_3 -0.215187477501\n",
      "Positive:  18 SEMIO_KULT 0.0979607612455  Negative:  4 FINANZ_VORSORGER -0.226403178145\n",
      "Positive:  48 ONLINE_AFFINITAET 0.097270765373  Negative:  0 ALTERSKATEGORIE_GROB -0.238200908576\n"
     ]
    }
   ],
   "source": [
    "\n",
    "pca_analysis(1)"
   ]
  },
  {
   "cell_type": "code",
   "execution_count": 109,
   "metadata": {},
   "outputs": [
    {
     "data": {
      "text/plain": [
       "array([ 2.30802555,  0.76246256,  1.70414849,  0.21840528,  0.71915351,\n",
       "        0.39916754])"
      ]
     },
     "execution_count": 109,
     "metadata": {},
     "output_type": "execute_result"
    }
   ],
   "source": [
    "#Optional for my cross checking\n",
    "scaler_inverse[[189,3,6,100,5,61]]"
   ]
  },
  {
   "cell_type": "code",
   "execution_count": 110,
   "metadata": {},
   "outputs": [
    {
     "name": "stdout",
     "output_type": "stream",
     "text": [
      "Positive:  1 ANREDE_KZ 0.318870282311  Negative:  14 SEMIO_MAT -0.0794386762274\n",
      "Positive:  22 SEMIO_KAEM 0.260589353292  Negative:  13 SEMIO_REL -0.0929764734395\n",
      "Positive:  21 SEMIO_DOM 0.25696476866  Negative:  122 ZABEOTYP_1 -0.100367003534\n",
      "Positive:  20 SEMIO_KRIT 0.251489806208  Negative:  118 SHOPPER_TYP_0.0 -0.153350239906\n",
      "Positive:  17 SEMIO_ERL 0.135147008615  Negative:  2 FINANZ_MINIMALIST -0.154657351586\n",
      "Positive:  19 SEMIO_RAT 0.12892963879  Negative:  70 FINANZTYP_5 -0.208004288942\n",
      "Positive:  5 FINANZ_ANLEGER 0.12263780999  Negative:  18 SEMIO_KULT -0.266858516115\n",
      "Positive:  66 FINANZTYP_1 0.116559839531  Negative:  11 SEMIO_SOZ -0.283786728505\n",
      "Positive:  120 SHOPPER_TYP_2.0 0.11308357346  Negative:  12 SEMIO_FAM -0.315213518658\n",
      "Positive:  101 LP_STATUS_FEIN_2.0 0.0892705050153  Negative:  15 SEMIO_VERT -0.345050358962\n"
     ]
    }
   ],
   "source": [
    "pca_analysis(2)"
   ]
  },
  {
   "cell_type": "code",
   "execution_count": 111,
   "metadata": {},
   "outputs": [
    {
     "data": {
      "text/plain": [
       "array([ 0.91945816,  1.90439072,  2.31817184,  3.07295257,  3.29304565,\n",
       "        0.4599039 ])"
      ]
     },
     "execution_count": 111,
     "metadata": {},
     "output_type": "execute_result"
    }
   ],
   "source": [
    "\n",
    "# Optional for my cross checking\n",
    "scaler_inverse[[1,22,21,14,13,122]]"
   ]
  },
  {
   "cell_type": "code",
   "execution_count": null,
   "metadata": {},
   "outputs": [],
   "source": [
    "# NOTE: Affinity is what causing the difference that is SEMIO_REL."
   ]
  },
  {
   "cell_type": "markdown",
   "metadata": {},
   "source": [
    "### Discussion 3.3: Compare Customer Data to Demographics Data\n",
    "\n",
    "\n",
    "Here on the above observations I observed the cluster lengths were different, that means the significance between is low between them. After inspecting clearly, I found that segments which correspond to Affinity, Typology, Demographics are playing significant role in that difference, So I go for the low.\n",
    "My points after interpreting Over represented cluster, I have gone through top 3 principal components that were 1,3,4\n",
    "\n",
    "In the first principal component I got to know that maximum magnitude weight is talking about Financial typology, Here I observe that FINANZ_MINIMALIST which is Financial typology and I observed in the both the data there is clear difference between count of people. Most of the data given consist from high segment.\n",
    "\n",
    "Interpreting third principal component I got to know that maximum magnitude weight is talking about Affinity, Here in this segment is about Personality typology as I observed there is clear change in distibution of the data Affinity.\n",
    "\n",
    "Interpreting fourth principal component I got to know that maximum magnitude weight is talking about Online Affinity, Here also affinity is what differentiating that is online affinity described by variable ONLINE_AFFINITAET.\n",
    "\n",
    "My points after interpreting Under represented cluster, I have gone through top 3 principal components that were 1,3,2\n",
    "\n",
    "After interpreting the first principal component I got to know that, Mobi_Regio is the variable which influencing here, It is tangentially related, with smaller values indicating higher movement rates. These higher movement rates appear to correspond with people in higher-density communities or with lower affluence. Also I got to know that maximum magnitude weight is talking about Financial typology, Here I observe that FINANZ_MINIMALIST which is Financial typology and I observed in the both the data there is clear difference between count of people. Most of the data given consist from high segment.\n",
    "\n",
    "After interpreting the third principal component, I got to know that maximum magnitude weight is talking about Affinity, Here in this segment is about Personality typology as I observed there is clear change in distibution of the data Affinity.\n",
    "\n",
    "After interpreting second principal component, I got to know that maximum magnitude weight is talking about demographics Age/Year Interval,Here PRAEGENDE_JUGENDJAHRE on which Interval is causing a difference between two datasets sample sizes of those two are different, Also it is indicating about the difference in Financial typology.\n",
    "\n",
    "Comparision and interpreting two different cluster distibution of two datasets\n",
    "\n",
    "The Customers data has low relativity most of the data is concentrated in urban areas or with high Financial typology.\n",
    "To summarize the overall interpretation, I can conclude by saying there is clear difference in the sample distibution of two datasets in following factors/latent variables Financial typology, Affinity, Population Density and Demographics. One cluster with customers dataset has the samples with higher Financial typology and lower movement rates and High affinity towards the cost of living. The Demographics data has a mix of all people in Financial typology, Affinity, Population Density and Demographics, that is the reason you can see the very well disributed clusters in the demographics dataset."
   ]
  },
  {
   "cell_type": "markdown",
   "metadata": {},
   "source": [
    "> Congratulations on making it this far in the project! Before you finish, make sure to check through the entire notebook from top to bottom to make sure that your analysis follows a logical flow and all of your findings are documented in **Discussion** cells. Once you've checked over all of your work, you should export the notebook as an HTML document to submit for evaluation. You can do this from the menu, navigating to **File -> Download as -> HTML (.html)**. You will submit both that document and this notebook for your project submission."
   ]
  },
  {
   "cell_type": "code",
   "execution_count": 113,
   "metadata": {},
   "outputs": [
    {
     "data": {
      "image/png": "[encoded data removed]",
      "text/plain": [
       "<matplotlib.figure.Figure at 0x7f82d8e921d0>"
      ]
     },
     "metadata": {},
     "output_type": "display_data"
    },
    {
     "data": {
      "image/png": "[encoded data removed]",
      "text/plain": [
       "<matplotlib.figure.Figure at 0x7f82d8e13eb8>"
      ]
     },
     "metadata": {},
     "output_type": "display_data"
    }
   ],
   "source": [
    "# Sampling distibution of Demographics Dataset and Customers Dataset\n",
    "\n",
    "import matplotlib.pyplot as plt\n",
    "from scipy.stats import multivariate_normal\n",
    "\n",
    "# Clusters\n",
    "x = np.linspace(0, 5, 10, endpoint=False)\n",
    "\n",
    "# Demographics data exactly at cluster two it takes maximum that is 50 perecent of Financial topology samples fall here\n",
    "y = multivariate_normal.pdf(x, mean=2, cov=0.5); \n",
    "fig1 = plt.figure()\n",
    "ax1 = fig1.add_subplot(211)\n",
    "ax1.plot(x, y)\n",
    "\n",
    "# Customers data exactly at cluster two it takes maximum that is 80 perecent of Financial topology samples fall here\n",
    "fig2= plt.figure()\n",
    "ax2 = fig2.add_subplot(212)\n",
    "x = np.linspace(0, 5, 10, endpoint=False)\n",
    "y = multivariate_normal.pdf(x, mean=2, cov=0.2); \n",
    "ax2.plot(x, y);\n",
    "# You can see clear distribution in plot I got values by manual intervention and I want to visualize it."
   ]
  }
 ],
 "metadata": {
  "kernelspec": {
   "display_name": "Python 3",
   "language": "python",
   "name": "python3"
  },
  "language_info": {
   "codemirror_mode": {
    "name": "ipython",
    "version": 3
   },
   "file_extension": ".py",
   "mimetype": "text/x-python",
   "name": "python",
   "nbconvert_exporter": "python",
   "pygments_lexer": "ipython3",
   "version": "3.6.3"
  }
 },
 "nbformat": 4,
 "nbformat_minor": 2
}
